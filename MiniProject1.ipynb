{
  "nbformat": 4,
  "nbformat_minor": 0,
  "metadata": {
    "colab": {
      "provenance": []
    },
    "kernelspec": {
      "name": "python3",
      "display_name": "Python 3"
    },
    "language_info": {
      "name": "python"
    }
  },
  "cells": [
    {
      "cell_type": "markdown",
      "source": [
        "#**Project Title:Retail Order Data Analysis**\n",
        "#**Domain:Data Analytics**"
      ],
      "metadata": {
        "id": "8ElbG4LwXrac"
      }
    },
    {
      "cell_type": "code",
      "execution_count": null,
      "metadata": {
        "id": "XlNOaPv4XAFf"
      },
      "outputs": [],
      "source": [
        "# ''' Problem Statement:\n",
        "#         ●Objective: To analyze and optimize sales performance\n",
        "#         by identifying key trends, top-performing products, and\n",
        "#         growth opportunities using a dataset of sales transactions.\n",
        "\n",
        "#         ●Goals:\n",
        "#             1.Identify products and categories contributing the most to revenue and profit.\n",
        "#             2.Analyze year-over-year (YoY) and month-over-month (MoM) sales trends.\n",
        "#             3.Highlight subcategories with the highest profit margins to guide decision-making.'''"
      ]
    },
    {
      "cell_type": "markdown",
      "source": [
        "#**Step 1: Data Extraction**"
      ],
      "metadata": {
        "id": "Q8n0I3p_Yxw_"
      }
    },
    {
      "cell_type": "markdown",
      "source": [
        "![image.png](data:image/png;base64,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)"
      ],
      "metadata": {
        "id": "wmHgBeV9Zu-M"
      }
    },
    {
      "cell_type": "code",
      "source": [
        "! pip install kaggle"
      ],
      "metadata": {
        "colab": {
          "base_uri": "https://localhost:8080/"
        },
        "id": "KyCttj-eY60p",
        "outputId": "c8b7e969-81fa-4fee-febb-ef2f04911f9a"
      },
      "execution_count": 1,
      "outputs": [
        {
          "output_type": "stream",
          "name": "stdout",
          "text": [
            "Requirement already satisfied: kaggle in /usr/local/lib/python3.11/dist-packages (1.7.4.2)\n",
            "Requirement already satisfied: bleach in /usr/local/lib/python3.11/dist-packages (from kaggle) (6.2.0)\n",
            "Requirement already satisfied: certifi>=14.05.14 in /usr/local/lib/python3.11/dist-packages (from kaggle) (2025.1.31)\n",
            "Requirement already satisfied: charset-normalizer in /usr/local/lib/python3.11/dist-packages (from kaggle) (3.4.1)\n",
            "Requirement already satisfied: idna in /usr/local/lib/python3.11/dist-packages (from kaggle) (3.10)\n",
            "Requirement already satisfied: protobuf in /usr/local/lib/python3.11/dist-packages (from kaggle) (5.29.4)\n",
            "Requirement already satisfied: python-dateutil>=2.5.3 in /usr/local/lib/python3.11/dist-packages (from kaggle) (2.8.2)\n",
            "Requirement already satisfied: python-slugify in /usr/local/lib/python3.11/dist-packages (from kaggle) (8.0.4)\n",
            "Requirement already satisfied: requests in /usr/local/lib/python3.11/dist-packages (from kaggle) (2.32.3)\n",
            "Requirement already satisfied: setuptools>=21.0.0 in /usr/local/lib/python3.11/dist-packages (from kaggle) (75.2.0)\n",
            "Requirement already satisfied: six>=1.10 in /usr/local/lib/python3.11/dist-packages (from kaggle) (1.17.0)\n",
            "Requirement already satisfied: text-unidecode in /usr/local/lib/python3.11/dist-packages (from kaggle) (1.3)\n",
            "Requirement already satisfied: tqdm in /usr/local/lib/python3.11/dist-packages (from kaggle) (4.67.1)\n",
            "Requirement already satisfied: urllib3>=1.15.1 in /usr/local/lib/python3.11/dist-packages (from kaggle) (2.3.0)\n",
            "Requirement already satisfied: webencodings in /usr/local/lib/python3.11/dist-packages (from kaggle) (0.5.1)\n"
          ]
        }
      ]
    },
    {
      "cell_type": "code",
      "source": [
        "from google.colab import drive\n",
        "drive.mount('/content/drive')"
      ],
      "metadata": {
        "colab": {
          "base_uri": "https://localhost:8080/"
        },
        "id": "PY79HTWjaH7K",
        "outputId": "e7dcdab2-f423-46f7-d8e9-8f9cd0fa518f"
      },
      "execution_count": 2,
      "outputs": [
        {
          "output_type": "stream",
          "name": "stdout",
          "text": [
            "Mounted at /content/drive\n"
          ]
        }
      ]
    },
    {
      "cell_type": "code",
      "source": [
        "! mkdir ~/.kaggle"
      ],
      "metadata": {
        "id": "M6FbTDC7a41h"
      },
      "execution_count": 3,
      "outputs": []
    },
    {
      "cell_type": "code",
      "source": [
        "! cp /content/drive/MyDrive/kaggle_API/kaggle.json ~/.kaggle/"
      ],
      "metadata": {
        "id": "FUVFHe7ObiSQ"
      },
      "execution_count": 4,
      "outputs": []
    },
    {
      "cell_type": "code",
      "source": [
        "! chmod 600 ~/.kaggle/kaggle.json"
      ],
      "metadata": {
        "id": "ljSedQ0ccA9M"
      },
      "execution_count": 5,
      "outputs": []
    },
    {
      "cell_type": "code",
      "source": [
        "!kaggle datasets download ankitbansal06/retail-orders -f orders.csv"
      ],
      "metadata": {
        "colab": {
          "base_uri": "https://localhost:8080/"
        },
        "id": "VEuPqh4IcVs2",
        "outputId": "0a4c61fd-25f7-463d-ff4e-f5f4a6a5d64c"
      },
      "execution_count": 6,
      "outputs": [
        {
          "output_type": "stream",
          "name": "stdout",
          "text": [
            "Dataset URL: https://www.kaggle.com/datasets/ankitbansal06/retail-orders\n",
            "License(s): CC0-1.0\n"
          ]
        }
      ]
    },
    {
      "cell_type": "code",
      "source": [
        "! unzip orders.csv"
      ],
      "metadata": {
        "colab": {
          "base_uri": "https://localhost:8080/"
        },
        "id": "kXj2na3Gdw30",
        "outputId": "28a356a7-92fe-4bc9-ab49-9b46a2f5d76e"
      },
      "execution_count": 14,
      "outputs": [
        {
          "output_type": "stream",
          "name": "stdout",
          "text": [
            "Archive:  orders.csv\n",
            "replace orders.csv? [y]es, [n]o, [A]ll, [N]one, [r]ename: y\n",
            "  inflating: orders.csv              \n"
          ]
        }
      ]
    },
    {
      "cell_type": "code",
      "source": [
        "import pandas as pd\n"
      ],
      "metadata": {
        "id": "uAWxnmeaeEhI"
      },
      "execution_count": 15,
      "outputs": []
    },
    {
      "cell_type": "code",
      "source": [
        "df = pd.read_csv('orders.csv')"
      ],
      "metadata": {
        "id": "w8ihwRP-u5O-"
      },
      "execution_count": 16,
      "outputs": []
    },
    {
      "cell_type": "code",
      "source": [
        "df"
      ],
      "metadata": {
        "colab": {
          "base_uri": "https://localhost:8080/",
          "height": 634
        },
        "id": "cp4zVN1oeXIb",
        "outputId": "78f164ab-074b-47f0-ed9a-5af1b7c4e1cc"
      },
      "execution_count": 17,
      "outputs": [
        {
          "output_type": "execute_result",
          "data": {
            "text/plain": [
              "      Order Id  Order Date       Ship Mode    Segment        Country  \\\n",
              "0            1  2023-03-01    Second Class   Consumer  United States   \n",
              "1            2  2023-08-15    Second Class   Consumer  United States   \n",
              "2            3  2023-01-10    Second Class  Corporate  United States   \n",
              "3            4  2022-06-18  Standard Class   Consumer  United States   \n",
              "4            5  2022-07-13  Standard Class   Consumer  United States   \n",
              "...        ...         ...             ...        ...            ...   \n",
              "9989      9990  2023-02-18    Second Class   Consumer  United States   \n",
              "9990      9991  2023-03-17  Standard Class   Consumer  United States   \n",
              "9991      9992  2022-08-07  Standard Class   Consumer  United States   \n",
              "9992      9993  2022-11-19  Standard Class   Consumer  United States   \n",
              "9993      9994  2022-07-17    Second Class   Consumer  United States   \n",
              "\n",
              "                 City       State  Postal Code Region         Category  \\\n",
              "0           Henderson    Kentucky        42420  South        Furniture   \n",
              "1           Henderson    Kentucky        42420  South        Furniture   \n",
              "2         Los Angeles  California        90036   West  Office Supplies   \n",
              "3     Fort Lauderdale     Florida        33311  South        Furniture   \n",
              "4     Fort Lauderdale     Florida        33311  South  Office Supplies   \n",
              "...               ...         ...          ...    ...              ...   \n",
              "9989            Miami     Florida        33180  South        Furniture   \n",
              "9990       Costa Mesa  California        92627   West        Furniture   \n",
              "9991       Costa Mesa  California        92627   West       Technology   \n",
              "9992       Costa Mesa  California        92627   West  Office Supplies   \n",
              "9993      Westminster  California        92683   West  Office Supplies   \n",
              "\n",
              "     Sub Category       Product Id  cost price  List Price  Quantity  \\\n",
              "0       Bookcases  FUR-BO-10001798         240         260         2   \n",
              "1          Chairs  FUR-CH-10000454         600         730         3   \n",
              "2          Labels  OFF-LA-10000240          10          10         2   \n",
              "3          Tables  FUR-TA-10000577         780         960         5   \n",
              "4         Storage  OFF-ST-10000760          20          20         2   \n",
              "...           ...              ...         ...         ...       ...   \n",
              "9989  Furnishings  FUR-FU-10001889          30          30         3   \n",
              "9990  Furnishings  FUR-FU-10000747          70          90         2   \n",
              "9991       Phones  TEC-PH-10003645         220         260         2   \n",
              "9992        Paper  OFF-PA-10004041          30          30         4   \n",
              "9993   Appliances  OFF-AP-10002684         210         240         2   \n",
              "\n",
              "      Discount Percent  \n",
              "0                    2  \n",
              "1                    3  \n",
              "2                    5  \n",
              "3                    2  \n",
              "4                    5  \n",
              "...                ...  \n",
              "9989                 4  \n",
              "9990                 4  \n",
              "9991                 2  \n",
              "9992                 3  \n",
              "9993                 3  \n",
              "\n",
              "[9994 rows x 16 columns]"
            ],
            "text/html": [
              "\n",
              "  <div id=\"df-bbf6e0c0-7a7a-4a29-b05d-7db45fe368af\" class=\"colab-df-container\">\n",
              "    <div>\n",
              "<style scoped>\n",
              "    .dataframe tbody tr th:only-of-type {\n",
              "        vertical-align: middle;\n",
              "    }\n",
              "\n",
              "    .dataframe tbody tr th {\n",
              "        vertical-align: top;\n",
              "    }\n",
              "\n",
              "    .dataframe thead th {\n",
              "        text-align: right;\n",
              "    }\n",
              "</style>\n",
              "<table border=\"1\" class=\"dataframe\">\n",
              "  <thead>\n",
              "    <tr style=\"text-align: right;\">\n",
              "      <th></th>\n",
              "      <th>Order Id</th>\n",
              "      <th>Order Date</th>\n",
              "      <th>Ship Mode</th>\n",
              "      <th>Segment</th>\n",
              "      <th>Country</th>\n",
              "      <th>City</th>\n",
              "      <th>State</th>\n",
              "      <th>Postal Code</th>\n",
              "      <th>Region</th>\n",
              "      <th>Category</th>\n",
              "      <th>Sub Category</th>\n",
              "      <th>Product Id</th>\n",
              "      <th>cost price</th>\n",
              "      <th>List Price</th>\n",
              "      <th>Quantity</th>\n",
              "      <th>Discount Percent</th>\n",
              "    </tr>\n",
              "  </thead>\n",
              "  <tbody>\n",
              "    <tr>\n",
              "      <th>0</th>\n",
              "      <td>1</td>\n",
              "      <td>2023-03-01</td>\n",
              "      <td>Second Class</td>\n",
              "      <td>Consumer</td>\n",
              "      <td>United States</td>\n",
              "      <td>Henderson</td>\n",
              "      <td>Kentucky</td>\n",
              "      <td>42420</td>\n",
              "      <td>South</td>\n",
              "      <td>Furniture</td>\n",
              "      <td>Bookcases</td>\n",
              "      <td>FUR-BO-10001798</td>\n",
              "      <td>240</td>\n",
              "      <td>260</td>\n",
              "      <td>2</td>\n",
              "      <td>2</td>\n",
              "    </tr>\n",
              "    <tr>\n",
              "      <th>1</th>\n",
              "      <td>2</td>\n",
              "      <td>2023-08-15</td>\n",
              "      <td>Second Class</td>\n",
              "      <td>Consumer</td>\n",
              "      <td>United States</td>\n",
              "      <td>Henderson</td>\n",
              "      <td>Kentucky</td>\n",
              "      <td>42420</td>\n",
              "      <td>South</td>\n",
              "      <td>Furniture</td>\n",
              "      <td>Chairs</td>\n",
              "      <td>FUR-CH-10000454</td>\n",
              "      <td>600</td>\n",
              "      <td>730</td>\n",
              "      <td>3</td>\n",
              "      <td>3</td>\n",
              "    </tr>\n",
              "    <tr>\n",
              "      <th>2</th>\n",
              "      <td>3</td>\n",
              "      <td>2023-01-10</td>\n",
              "      <td>Second Class</td>\n",
              "      <td>Corporate</td>\n",
              "      <td>United States</td>\n",
              "      <td>Los Angeles</td>\n",
              "      <td>California</td>\n",
              "      <td>90036</td>\n",
              "      <td>West</td>\n",
              "      <td>Office Supplies</td>\n",
              "      <td>Labels</td>\n",
              "      <td>OFF-LA-10000240</td>\n",
              "      <td>10</td>\n",
              "      <td>10</td>\n",
              "      <td>2</td>\n",
              "      <td>5</td>\n",
              "    </tr>\n",
              "    <tr>\n",
              "      <th>3</th>\n",
              "      <td>4</td>\n",
              "      <td>2022-06-18</td>\n",
              "      <td>Standard Class</td>\n",
              "      <td>Consumer</td>\n",
              "      <td>United States</td>\n",
              "      <td>Fort Lauderdale</td>\n",
              "      <td>Florida</td>\n",
              "      <td>33311</td>\n",
              "      <td>South</td>\n",
              "      <td>Furniture</td>\n",
              "      <td>Tables</td>\n",
              "      <td>FUR-TA-10000577</td>\n",
              "      <td>780</td>\n",
              "      <td>960</td>\n",
              "      <td>5</td>\n",
              "      <td>2</td>\n",
              "    </tr>\n",
              "    <tr>\n",
              "      <th>4</th>\n",
              "      <td>5</td>\n",
              "      <td>2022-07-13</td>\n",
              "      <td>Standard Class</td>\n",
              "      <td>Consumer</td>\n",
              "      <td>United States</td>\n",
              "      <td>Fort Lauderdale</td>\n",
              "      <td>Florida</td>\n",
              "      <td>33311</td>\n",
              "      <td>South</td>\n",
              "      <td>Office Supplies</td>\n",
              "      <td>Storage</td>\n",
              "      <td>OFF-ST-10000760</td>\n",
              "      <td>20</td>\n",
              "      <td>20</td>\n",
              "      <td>2</td>\n",
              "      <td>5</td>\n",
              "    </tr>\n",
              "    <tr>\n",
              "      <th>...</th>\n",
              "      <td>...</td>\n",
              "      <td>...</td>\n",
              "      <td>...</td>\n",
              "      <td>...</td>\n",
              "      <td>...</td>\n",
              "      <td>...</td>\n",
              "      <td>...</td>\n",
              "      <td>...</td>\n",
              "      <td>...</td>\n",
              "      <td>...</td>\n",
              "      <td>...</td>\n",
              "      <td>...</td>\n",
              "      <td>...</td>\n",
              "      <td>...</td>\n",
              "      <td>...</td>\n",
              "      <td>...</td>\n",
              "    </tr>\n",
              "    <tr>\n",
              "      <th>9989</th>\n",
              "      <td>9990</td>\n",
              "      <td>2023-02-18</td>\n",
              "      <td>Second Class</td>\n",
              "      <td>Consumer</td>\n",
              "      <td>United States</td>\n",
              "      <td>Miami</td>\n",
              "      <td>Florida</td>\n",
              "      <td>33180</td>\n",
              "      <td>South</td>\n",
              "      <td>Furniture</td>\n",
              "      <td>Furnishings</td>\n",
              "      <td>FUR-FU-10001889</td>\n",
              "      <td>30</td>\n",
              "      <td>30</td>\n",
              "      <td>3</td>\n",
              "      <td>4</td>\n",
              "    </tr>\n",
              "    <tr>\n",
              "      <th>9990</th>\n",
              "      <td>9991</td>\n",
              "      <td>2023-03-17</td>\n",
              "      <td>Standard Class</td>\n",
              "      <td>Consumer</td>\n",
              "      <td>United States</td>\n",
              "      <td>Costa Mesa</td>\n",
              "      <td>California</td>\n",
              "      <td>92627</td>\n",
              "      <td>West</td>\n",
              "      <td>Furniture</td>\n",
              "      <td>Furnishings</td>\n",
              "      <td>FUR-FU-10000747</td>\n",
              "      <td>70</td>\n",
              "      <td>90</td>\n",
              "      <td>2</td>\n",
              "      <td>4</td>\n",
              "    </tr>\n",
              "    <tr>\n",
              "      <th>9991</th>\n",
              "      <td>9992</td>\n",
              "      <td>2022-08-07</td>\n",
              "      <td>Standard Class</td>\n",
              "      <td>Consumer</td>\n",
              "      <td>United States</td>\n",
              "      <td>Costa Mesa</td>\n",
              "      <td>California</td>\n",
              "      <td>92627</td>\n",
              "      <td>West</td>\n",
              "      <td>Technology</td>\n",
              "      <td>Phones</td>\n",
              "      <td>TEC-PH-10003645</td>\n",
              "      <td>220</td>\n",
              "      <td>260</td>\n",
              "      <td>2</td>\n",
              "      <td>2</td>\n",
              "    </tr>\n",
              "    <tr>\n",
              "      <th>9992</th>\n",
              "      <td>9993</td>\n",
              "      <td>2022-11-19</td>\n",
              "      <td>Standard Class</td>\n",
              "      <td>Consumer</td>\n",
              "      <td>United States</td>\n",
              "      <td>Costa Mesa</td>\n",
              "      <td>California</td>\n",
              "      <td>92627</td>\n",
              "      <td>West</td>\n",
              "      <td>Office Supplies</td>\n",
              "      <td>Paper</td>\n",
              "      <td>OFF-PA-10004041</td>\n",
              "      <td>30</td>\n",
              "      <td>30</td>\n",
              "      <td>4</td>\n",
              "      <td>3</td>\n",
              "    </tr>\n",
              "    <tr>\n",
              "      <th>9993</th>\n",
              "      <td>9994</td>\n",
              "      <td>2022-07-17</td>\n",
              "      <td>Second Class</td>\n",
              "      <td>Consumer</td>\n",
              "      <td>United States</td>\n",
              "      <td>Westminster</td>\n",
              "      <td>California</td>\n",
              "      <td>92683</td>\n",
              "      <td>West</td>\n",
              "      <td>Office Supplies</td>\n",
              "      <td>Appliances</td>\n",
              "      <td>OFF-AP-10002684</td>\n",
              "      <td>210</td>\n",
              "      <td>240</td>\n",
              "      <td>2</td>\n",
              "      <td>3</td>\n",
              "    </tr>\n",
              "  </tbody>\n",
              "</table>\n",
              "<p>9994 rows × 16 columns</p>\n",
              "</div>\n",
              "    <div class=\"colab-df-buttons\">\n",
              "\n",
              "  <div class=\"colab-df-container\">\n",
              "    <button class=\"colab-df-convert\" onclick=\"convertToInteractive('df-bbf6e0c0-7a7a-4a29-b05d-7db45fe368af')\"\n",
              "            title=\"Convert this dataframe to an interactive table.\"\n",
              "            style=\"display:none;\">\n",
              "\n",
              "  <svg xmlns=\"http://www.w3.org/2000/svg\" height=\"24px\" viewBox=\"0 -960 960 960\">\n",
              "    <path d=\"M120-120v-720h720v720H120Zm60-500h600v-160H180v160Zm220 220h160v-160H400v160Zm0 220h160v-160H400v160ZM180-400h160v-160H180v160Zm440 0h160v-160H620v160ZM180-180h160v-160H180v160Zm440 0h160v-160H620v160Z\"/>\n",
              "  </svg>\n",
              "    </button>\n",
              "\n",
              "  <style>\n",
              "    .colab-df-container {\n",
              "      display:flex;\n",
              "      gap: 12px;\n",
              "    }\n",
              "\n",
              "    .colab-df-convert {\n",
              "      background-color: #E8F0FE;\n",
              "      border: none;\n",
              "      border-radius: 50%;\n",
              "      cursor: pointer;\n",
              "      display: none;\n",
              "      fill: #1967D2;\n",
              "      height: 32px;\n",
              "      padding: 0 0 0 0;\n",
              "      width: 32px;\n",
              "    }\n",
              "\n",
              "    .colab-df-convert:hover {\n",
              "      background-color: #E2EBFA;\n",
              "      box-shadow: 0px 1px 2px rgba(60, 64, 67, 0.3), 0px 1px 3px 1px rgba(60, 64, 67, 0.15);\n",
              "      fill: #174EA6;\n",
              "    }\n",
              "\n",
              "    .colab-df-buttons div {\n",
              "      margin-bottom: 4px;\n",
              "    }\n",
              "\n",
              "    [theme=dark] .colab-df-convert {\n",
              "      background-color: #3B4455;\n",
              "      fill: #D2E3FC;\n",
              "    }\n",
              "\n",
              "    [theme=dark] .colab-df-convert:hover {\n",
              "      background-color: #434B5C;\n",
              "      box-shadow: 0px 1px 3px 1px rgba(0, 0, 0, 0.15);\n",
              "      filter: drop-shadow(0px 1px 2px rgba(0, 0, 0, 0.3));\n",
              "      fill: #FFFFFF;\n",
              "    }\n",
              "  </style>\n",
              "\n",
              "    <script>\n",
              "      const buttonEl =\n",
              "        document.querySelector('#df-bbf6e0c0-7a7a-4a29-b05d-7db45fe368af button.colab-df-convert');\n",
              "      buttonEl.style.display =\n",
              "        google.colab.kernel.accessAllowed ? 'block' : 'none';\n",
              "\n",
              "      async function convertToInteractive(key) {\n",
              "        const element = document.querySelector('#df-bbf6e0c0-7a7a-4a29-b05d-7db45fe368af');\n",
              "        const dataTable =\n",
              "          await google.colab.kernel.invokeFunction('convertToInteractive',\n",
              "                                                    [key], {});\n",
              "        if (!dataTable) return;\n",
              "\n",
              "        const docLinkHtml = 'Like what you see? Visit the ' +\n",
              "          '<a target=\"_blank\" href=https://colab.research.google.com/notebooks/data_table.ipynb>data table notebook</a>'\n",
              "          + ' to learn more about interactive tables.';\n",
              "        element.innerHTML = '';\n",
              "        dataTable['output_type'] = 'display_data';\n",
              "        await google.colab.output.renderOutput(dataTable, element);\n",
              "        const docLink = document.createElement('div');\n",
              "        docLink.innerHTML = docLinkHtml;\n",
              "        element.appendChild(docLink);\n",
              "      }\n",
              "    </script>\n",
              "  </div>\n",
              "\n",
              "\n",
              "<div id=\"df-65dc4fdc-3364-44bf-91ee-48d78771c278\">\n",
              "  <button class=\"colab-df-quickchart\" onclick=\"quickchart('df-65dc4fdc-3364-44bf-91ee-48d78771c278')\"\n",
              "            title=\"Suggest charts\"\n",
              "            style=\"display:none;\">\n",
              "\n",
              "<svg xmlns=\"http://www.w3.org/2000/svg\" height=\"24px\"viewBox=\"0 0 24 24\"\n",
              "     width=\"24px\">\n",
              "    <g>\n",
              "        <path d=\"M19 3H5c-1.1 0-2 .9-2 2v14c0 1.1.9 2 2 2h14c1.1 0 2-.9 2-2V5c0-1.1-.9-2-2-2zM9 17H7v-7h2v7zm4 0h-2V7h2v10zm4 0h-2v-4h2v4z\"/>\n",
              "    </g>\n",
              "</svg>\n",
              "  </button>\n",
              "\n",
              "<style>\n",
              "  .colab-df-quickchart {\n",
              "      --bg-color: #E8F0FE;\n",
              "      --fill-color: #1967D2;\n",
              "      --hover-bg-color: #E2EBFA;\n",
              "      --hover-fill-color: #174EA6;\n",
              "      --disabled-fill-color: #AAA;\n",
              "      --disabled-bg-color: #DDD;\n",
              "  }\n",
              "\n",
              "  [theme=dark] .colab-df-quickchart {\n",
              "      --bg-color: #3B4455;\n",
              "      --fill-color: #D2E3FC;\n",
              "      --hover-bg-color: #434B5C;\n",
              "      --hover-fill-color: #FFFFFF;\n",
              "      --disabled-bg-color: #3B4455;\n",
              "      --disabled-fill-color: #666;\n",
              "  }\n",
              "\n",
              "  .colab-df-quickchart {\n",
              "    background-color: var(--bg-color);\n",
              "    border: none;\n",
              "    border-radius: 50%;\n",
              "    cursor: pointer;\n",
              "    display: none;\n",
              "    fill: var(--fill-color);\n",
              "    height: 32px;\n",
              "    padding: 0;\n",
              "    width: 32px;\n",
              "  }\n",
              "\n",
              "  .colab-df-quickchart:hover {\n",
              "    background-color: var(--hover-bg-color);\n",
              "    box-shadow: 0 1px 2px rgba(60, 64, 67, 0.3), 0 1px 3px 1px rgba(60, 64, 67, 0.15);\n",
              "    fill: var(--button-hover-fill-color);\n",
              "  }\n",
              "\n",
              "  .colab-df-quickchart-complete:disabled,\n",
              "  .colab-df-quickchart-complete:disabled:hover {\n",
              "    background-color: var(--disabled-bg-color);\n",
              "    fill: var(--disabled-fill-color);\n",
              "    box-shadow: none;\n",
              "  }\n",
              "\n",
              "  .colab-df-spinner {\n",
              "    border: 2px solid var(--fill-color);\n",
              "    border-color: transparent;\n",
              "    border-bottom-color: var(--fill-color);\n",
              "    animation:\n",
              "      spin 1s steps(1) infinite;\n",
              "  }\n",
              "\n",
              "  @keyframes spin {\n",
              "    0% {\n",
              "      border-color: transparent;\n",
              "      border-bottom-color: var(--fill-color);\n",
              "      border-left-color: var(--fill-color);\n",
              "    }\n",
              "    20% {\n",
              "      border-color: transparent;\n",
              "      border-left-color: var(--fill-color);\n",
              "      border-top-color: var(--fill-color);\n",
              "    }\n",
              "    30% {\n",
              "      border-color: transparent;\n",
              "      border-left-color: var(--fill-color);\n",
              "      border-top-color: var(--fill-color);\n",
              "      border-right-color: var(--fill-color);\n",
              "    }\n",
              "    40% {\n",
              "      border-color: transparent;\n",
              "      border-right-color: var(--fill-color);\n",
              "      border-top-color: var(--fill-color);\n",
              "    }\n",
              "    60% {\n",
              "      border-color: transparent;\n",
              "      border-right-color: var(--fill-color);\n",
              "    }\n",
              "    80% {\n",
              "      border-color: transparent;\n",
              "      border-right-color: var(--fill-color);\n",
              "      border-bottom-color: var(--fill-color);\n",
              "    }\n",
              "    90% {\n",
              "      border-color: transparent;\n",
              "      border-bottom-color: var(--fill-color);\n",
              "    }\n",
              "  }\n",
              "</style>\n",
              "\n",
              "  <script>\n",
              "    async function quickchart(key) {\n",
              "      const quickchartButtonEl =\n",
              "        document.querySelector('#' + key + ' button');\n",
              "      quickchartButtonEl.disabled = true;  // To prevent multiple clicks.\n",
              "      quickchartButtonEl.classList.add('colab-df-spinner');\n",
              "      try {\n",
              "        const charts = await google.colab.kernel.invokeFunction(\n",
              "            'suggestCharts', [key], {});\n",
              "      } catch (error) {\n",
              "        console.error('Error during call to suggestCharts:', error);\n",
              "      }\n",
              "      quickchartButtonEl.classList.remove('colab-df-spinner');\n",
              "      quickchartButtonEl.classList.add('colab-df-quickchart-complete');\n",
              "    }\n",
              "    (() => {\n",
              "      let quickchartButtonEl =\n",
              "        document.querySelector('#df-65dc4fdc-3364-44bf-91ee-48d78771c278 button');\n",
              "      quickchartButtonEl.style.display =\n",
              "        google.colab.kernel.accessAllowed ? 'block' : 'none';\n",
              "    })();\n",
              "  </script>\n",
              "</div>\n",
              "\n",
              "  <div id=\"id_f1bd8072-2c25-4df7-a29c-91a3d306e3fe\">\n",
              "    <style>\n",
              "      .colab-df-generate {\n",
              "        background-color: #E8F0FE;\n",
              "        border: none;\n",
              "        border-radius: 50%;\n",
              "        cursor: pointer;\n",
              "        display: none;\n",
              "        fill: #1967D2;\n",
              "        height: 32px;\n",
              "        padding: 0 0 0 0;\n",
              "        width: 32px;\n",
              "      }\n",
              "\n",
              "      .colab-df-generate:hover {\n",
              "        background-color: #E2EBFA;\n",
              "        box-shadow: 0px 1px 2px rgba(60, 64, 67, 0.3), 0px 1px 3px 1px rgba(60, 64, 67, 0.15);\n",
              "        fill: #174EA6;\n",
              "      }\n",
              "\n",
              "      [theme=dark] .colab-df-generate {\n",
              "        background-color: #3B4455;\n",
              "        fill: #D2E3FC;\n",
              "      }\n",
              "\n",
              "      [theme=dark] .colab-df-generate:hover {\n",
              "        background-color: #434B5C;\n",
              "        box-shadow: 0px 1px 3px 1px rgba(0, 0, 0, 0.15);\n",
              "        filter: drop-shadow(0px 1px 2px rgba(0, 0, 0, 0.3));\n",
              "        fill: #FFFFFF;\n",
              "      }\n",
              "    </style>\n",
              "    <button class=\"colab-df-generate\" onclick=\"generateWithVariable('df')\"\n",
              "            title=\"Generate code using this dataframe.\"\n",
              "            style=\"display:none;\">\n",
              "\n",
              "  <svg xmlns=\"http://www.w3.org/2000/svg\" height=\"24px\"viewBox=\"0 0 24 24\"\n",
              "       width=\"24px\">\n",
              "    <path d=\"M7,19H8.4L18.45,9,17,7.55,7,17.6ZM5,21V16.75L18.45,3.32a2,2,0,0,1,2.83,0l1.4,1.43a1.91,1.91,0,0,1,.58,1.4,1.91,1.91,0,0,1-.58,1.4L9.25,21ZM18.45,9,17,7.55Zm-12,3A5.31,5.31,0,0,0,4.9,8.1,5.31,5.31,0,0,0,1,6.5,5.31,5.31,0,0,0,4.9,4.9,5.31,5.31,0,0,0,6.5,1,5.31,5.31,0,0,0,8.1,4.9,5.31,5.31,0,0,0,12,6.5,5.46,5.46,0,0,0,6.5,12Z\"/>\n",
              "  </svg>\n",
              "    </button>\n",
              "    <script>\n",
              "      (() => {\n",
              "      const buttonEl =\n",
              "        document.querySelector('#id_f1bd8072-2c25-4df7-a29c-91a3d306e3fe button.colab-df-generate');\n",
              "      buttonEl.style.display =\n",
              "        google.colab.kernel.accessAllowed ? 'block' : 'none';\n",
              "\n",
              "      buttonEl.onclick = () => {\n",
              "        google.colab.notebook.generateWithVariable('df');\n",
              "      }\n",
              "      })();\n",
              "    </script>\n",
              "  </div>\n",
              "\n",
              "    </div>\n",
              "  </div>\n"
            ],
            "application/vnd.google.colaboratory.intrinsic+json": {
              "type": "dataframe",
              "variable_name": "df",
              "summary": "{\n  \"name\": \"df\",\n  \"rows\": 9994,\n  \"fields\": [\n    {\n      \"column\": \"Order Id\",\n      \"properties\": {\n        \"dtype\": \"number\",\n        \"std\": 2885,\n        \"min\": 1,\n        \"max\": 9994,\n        \"num_unique_values\": 9994,\n        \"samples\": [\n          3126,\n          1442,\n          4511\n        ],\n        \"semantic_type\": \"\",\n        \"description\": \"\"\n      }\n    },\n    {\n      \"column\": \"Order Date\",\n      \"properties\": {\n        \"dtype\": \"object\",\n        \"num_unique_values\": 730,\n        \"samples\": [\n          \"2022-11-04\",\n          \"2023-10-14\",\n          \"2023-09-23\"\n        ],\n        \"semantic_type\": \"\",\n        \"description\": \"\"\n      }\n    },\n    {\n      \"column\": \"Ship Mode\",\n      \"properties\": {\n        \"dtype\": \"category\",\n        \"num_unique_values\": 6,\n        \"samples\": [\n          \"Second Class\",\n          \"Standard Class\",\n          \"Same Day\"\n        ],\n        \"semantic_type\": \"\",\n        \"description\": \"\"\n      }\n    },\n    {\n      \"column\": \"Segment\",\n      \"properties\": {\n        \"dtype\": \"category\",\n        \"num_unique_values\": 3,\n        \"samples\": [\n          \"Consumer\",\n          \"Corporate\",\n          \"Home Office\"\n        ],\n        \"semantic_type\": \"\",\n        \"description\": \"\"\n      }\n    },\n    {\n      \"column\": \"Country\",\n      \"properties\": {\n        \"dtype\": \"category\",\n        \"num_unique_values\": 1,\n        \"samples\": [\n          \"United States\"\n        ],\n        \"semantic_type\": \"\",\n        \"description\": \"\"\n      }\n    },\n    {\n      \"column\": \"City\",\n      \"properties\": {\n        \"dtype\": \"category\",\n        \"num_unique_values\": 531,\n        \"samples\": [\n          \"Laurel\"\n        ],\n        \"semantic_type\": \"\",\n        \"description\": \"\"\n      }\n    },\n    {\n      \"column\": \"State\",\n      \"properties\": {\n        \"dtype\": \"category\",\n        \"num_unique_values\": 49,\n        \"samples\": [\n          \"Delaware\"\n        ],\n        \"semantic_type\": \"\",\n        \"description\": \"\"\n      }\n    },\n    {\n      \"column\": \"Postal Code\",\n      \"properties\": {\n        \"dtype\": \"number\",\n        \"std\": 32063,\n        \"min\": 1040,\n        \"max\": 99301,\n        \"num_unique_values\": 631,\n        \"samples\": [\n          30062\n        ],\n        \"semantic_type\": \"\",\n        \"description\": \"\"\n      }\n    },\n    {\n      \"column\": \"Region\",\n      \"properties\": {\n        \"dtype\": \"category\",\n        \"num_unique_values\": 4,\n        \"samples\": [\n          \"West\"\n        ],\n        \"semantic_type\": \"\",\n        \"description\": \"\"\n      }\n    },\n    {\n      \"column\": \"Category\",\n      \"properties\": {\n        \"dtype\": \"category\",\n        \"num_unique_values\": 3,\n        \"samples\": [\n          \"Furniture\"\n        ],\n        \"semantic_type\": \"\",\n        \"description\": \"\"\n      }\n    },\n    {\n      \"column\": \"Sub Category\",\n      \"properties\": {\n        \"dtype\": \"category\",\n        \"num_unique_values\": 17,\n        \"samples\": [\n          \"Bookcases\"\n        ],\n        \"semantic_type\": \"\",\n        \"description\": \"\"\n      }\n    },\n    {\n      \"column\": \"Product Id\",\n      \"properties\": {\n        \"dtype\": \"category\",\n        \"num_unique_values\": 1862,\n        \"samples\": [\n          \"TEC-PH-10001580\"\n        ],\n        \"semantic_type\": \"\",\n        \"description\": \"\"\n      }\n    },\n    {\n      \"column\": \"cost price\",\n      \"properties\": {\n        \"dtype\": \"number\",\n        \"std\": 537,\n        \"min\": 0,\n        \"max\": 18110,\n        \"num_unique_values\": 280,\n        \"samples\": [\n          790\n        ],\n        \"semantic_type\": \"\",\n        \"description\": \"\"\n      }\n    },\n    {\n      \"column\": \"List Price\",\n      \"properties\": {\n        \"dtype\": \"number\",\n        \"std\": 623,\n        \"min\": 0,\n        \"max\": 22640,\n        \"num_unique_values\": 289,\n        \"samples\": [\n          380\n        ],\n        \"semantic_type\": \"\",\n        \"description\": \"\"\n      }\n    },\n    {\n      \"column\": \"Quantity\",\n      \"properties\": {\n        \"dtype\": \"number\",\n        \"std\": 2,\n        \"min\": 1,\n        \"max\": 14,\n        \"num_unique_values\": 14,\n        \"samples\": [\n          14\n        ],\n        \"semantic_type\": \"\",\n        \"description\": \"\"\n      }\n    },\n    {\n      \"column\": \"Discount Percent\",\n      \"properties\": {\n        \"dtype\": \"number\",\n        \"std\": 1,\n        \"min\": 2,\n        \"max\": 5,\n        \"num_unique_values\": 4,\n        \"samples\": [\n          3\n        ],\n        \"semantic_type\": \"\",\n        \"description\": \"\"\n      }\n    }\n  ]\n}"
            }
          },
          "metadata": {},
          "execution_count": 17
        }
      ]
    },
    {
      "cell_type": "markdown",
      "source": [
        "#**Step 2: Data Cleaning**"
      ],
      "metadata": {
        "id": "U7fkFi1EDsi3"
      }
    },
    {
      "cell_type": "code",
      "source": [
        "df.info()"
      ],
      "metadata": {
        "id": "UnfLVoOZeovb",
        "colab": {
          "base_uri": "https://localhost:8080/"
        },
        "outputId": "5defb01e-1343-4429-aa22-79ec2dbed6e6"
      },
      "execution_count": 18,
      "outputs": [
        {
          "output_type": "stream",
          "name": "stdout",
          "text": [
            "<class 'pandas.core.frame.DataFrame'>\n",
            "RangeIndex: 9994 entries, 0 to 9993\n",
            "Data columns (total 16 columns):\n",
            " #   Column            Non-Null Count  Dtype \n",
            "---  ------            --------------  ----- \n",
            " 0   Order Id          9994 non-null   int64 \n",
            " 1   Order Date        9994 non-null   object\n",
            " 2   Ship Mode         9993 non-null   object\n",
            " 3   Segment           9994 non-null   object\n",
            " 4   Country           9994 non-null   object\n",
            " 5   City              9994 non-null   object\n",
            " 6   State             9994 non-null   object\n",
            " 7   Postal Code       9994 non-null   int64 \n",
            " 8   Region            9994 non-null   object\n",
            " 9   Category          9994 non-null   object\n",
            " 10  Sub Category      9994 non-null   object\n",
            " 11  Product Id        9994 non-null   object\n",
            " 12  cost price        9994 non-null   int64 \n",
            " 13  List Price        9994 non-null   int64 \n",
            " 14  Quantity          9994 non-null   int64 \n",
            " 15  Discount Percent  9994 non-null   int64 \n",
            "dtypes: int64(6), object(10)\n",
            "memory usage: 1.2+ MB\n"
          ]
        }
      ]
    },
    {
      "cell_type": "code",
      "source": [
        "df.rename(columns={\"Order Id\": \"order_id\"}, inplace= True)"
      ],
      "metadata": {
        "id": "mGzsE-zsEKYc"
      },
      "execution_count": 19,
      "outputs": []
    },
    {
      "cell_type": "code",
      "source": [
        "df.columns"
      ],
      "metadata": {
        "colab": {
          "base_uri": "https://localhost:8080/"
        },
        "id": "ufyWph-jGok3",
        "outputId": "cb00b0ff-49b0-4a49-aabd-7ece715c343e"
      },
      "execution_count": 20,
      "outputs": [
        {
          "output_type": "execute_result",
          "data": {
            "text/plain": [
              "Index(['order_id', 'Order Date', 'Ship Mode', 'Segment', 'Country', 'City',\n",
              "       'State', 'Postal Code', 'Region', 'Category', 'Sub Category',\n",
              "       'Product Id', 'cost price', 'List Price', 'Quantity',\n",
              "       'Discount Percent'],\n",
              "      dtype='object')"
            ]
          },
          "metadata": {},
          "execution_count": 20
        }
      ]
    },
    {
      "cell_type": "code",
      "source": [
        "df.columns = ['order_id', 'order_date', 'ship_mode', 'segment', 'country', 'city',\n",
        "       'state', 'postal_code', 'region', 'category', 'sub_category',\n",
        "       'product_id', 'cost_price', 'list_price', 'quantity',\n",
        "       'discount_percent']"
      ],
      "metadata": {
        "id": "6dJT9IIVHVZO"
      },
      "execution_count": 21,
      "outputs": []
    },
    {
      "cell_type": "code",
      "source": [
        "df.columns"
      ],
      "metadata": {
        "colab": {
          "base_uri": "https://localhost:8080/"
        },
        "id": "--P_8XA0Hkn1",
        "outputId": "8328ca87-3c07-43dd-d383-142ab1690352"
      },
      "execution_count": 22,
      "outputs": [
        {
          "output_type": "execute_result",
          "data": {
            "text/plain": [
              "Index(['order_id', 'order_date', 'ship_mode', 'segment', 'country', 'city',\n",
              "       'state', 'postal_code', 'region', 'category', 'sub_category',\n",
              "       'product_id', 'cost_price', 'list_price', 'quantity',\n",
              "       'discount_percent'],\n",
              "      dtype='object')"
            ]
          },
          "metadata": {},
          "execution_count": 22
        }
      ]
    },
    {
      "cell_type": "code",
      "source": [
        "df['order_date'] = pd.to_datetime(df[\"order_date\"],format=\"%Y-%m-%d\")"
      ],
      "metadata": {
        "id": "UJP84aQDH-qF"
      },
      "execution_count": 23,
      "outputs": []
    },
    {
      "cell_type": "code",
      "source": [
        "df.info()"
      ],
      "metadata": {
        "colab": {
          "base_uri": "https://localhost:8080/"
        },
        "id": "2ElmHJqkIio0",
        "outputId": "3643b907-8e25-4fc5-85d6-ec19dcfd4b19"
      },
      "execution_count": 24,
      "outputs": [
        {
          "output_type": "stream",
          "name": "stdout",
          "text": [
            "<class 'pandas.core.frame.DataFrame'>\n",
            "RangeIndex: 9994 entries, 0 to 9993\n",
            "Data columns (total 16 columns):\n",
            " #   Column            Non-Null Count  Dtype         \n",
            "---  ------            --------------  -----         \n",
            " 0   order_id          9994 non-null   int64         \n",
            " 1   order_date        9994 non-null   datetime64[ns]\n",
            " 2   ship_mode         9993 non-null   object        \n",
            " 3   segment           9994 non-null   object        \n",
            " 4   country           9994 non-null   object        \n",
            " 5   city              9994 non-null   object        \n",
            " 6   state             9994 non-null   object        \n",
            " 7   postal_code       9994 non-null   int64         \n",
            " 8   region            9994 non-null   object        \n",
            " 9   category          9994 non-null   object        \n",
            " 10  sub_category      9994 non-null   object        \n",
            " 11  product_id        9994 non-null   object        \n",
            " 12  cost_price        9994 non-null   int64         \n",
            " 13  list_price        9994 non-null   int64         \n",
            " 14  quantity          9994 non-null   int64         \n",
            " 15  discount_percent  9994 non-null   int64         \n",
            "dtypes: datetime64[ns](1), int64(6), object(9)\n",
            "memory usage: 1.2+ MB\n"
          ]
        }
      ]
    },
    {
      "cell_type": "code",
      "source": [
        "for i in df.select_dtypes(include=[\"object\"]).columns:\n",
        "  print(i,df[i].unique())"
      ],
      "metadata": {
        "colab": {
          "base_uri": "https://localhost:8080/"
        },
        "id": "hdCNqzl2Ja4L",
        "outputId": "4b4683ed-4d63-4ac2-9145-750d5f574bf1",
        "collapsed": true
      },
      "execution_count": 25,
      "outputs": [
        {
          "output_type": "stream",
          "name": "stdout",
          "text": [
            "ship_mode ['Second Class' 'Standard Class' 'Not Available' 'unknown' 'First Class'\n",
            " nan 'Same Day']\n",
            "segment ['Consumer' 'Corporate' 'Home Office']\n",
            "country ['United States']\n",
            "city ['Henderson' 'Los Angeles' 'Fort Lauderdale' 'Concord' 'Seattle'\n",
            " 'Fort Worth' 'Madison' 'West Jordan' 'San Francisco' 'Fremont'\n",
            " 'Philadelphia' 'Orem' 'Houston' 'Richardson' 'Naperville' 'Melbourne'\n",
            " 'Eagan' 'Westland' 'Dover' 'New Albany' 'New York City' 'Troy' 'Chicago'\n",
            " 'Gilbert' 'Springfield' 'Jackson' 'Memphis' 'Decatur' 'Durham' 'Columbia'\n",
            " 'Rochester' 'Minneapolis' 'Portland' 'Saint Paul' 'Aurora' 'Charlotte'\n",
            " 'Orland Park' 'Urbandale' 'Columbus' 'Bristol' 'Wilmington' 'Bloomington'\n",
            " 'Phoenix' 'Roseville' 'Independence' 'Pasadena' 'Newark' 'Franklin'\n",
            " 'Scottsdale' 'San Jose' 'Edmond' 'Carlsbad' 'San Antonio' 'Monroe'\n",
            " 'Fairfield' 'Grand Prairie' 'Redlands' 'Hamilton' 'Westfield' 'Akron'\n",
            " 'Denver' 'Dallas' 'Whittier' 'Saginaw' 'Medina' 'Dublin' 'Detroit'\n",
            " 'Tampa' 'Santa Clara' 'Lakeville' 'San Diego' 'Brentwood' 'Chapel Hill'\n",
            " 'Morristown' 'Cincinnati' 'Inglewood' 'Tamarac' 'Colorado Springs'\n",
            " 'Belleville' 'Taylor' 'Lakewood' 'Arlington' 'Arvada' 'Hackensack'\n",
            " 'Saint Petersburg' 'Long Beach' 'Hesperia' 'Murfreesboro' 'Layton'\n",
            " 'Austin' 'Lowell' 'Manchester' 'Harlingen' 'Tucson' 'Quincy'\n",
            " 'Pembroke Pines' 'Des Moines' 'Peoria' 'Las Vegas' 'Warwick' 'Miami'\n",
            " 'Huntington Beach' 'Richmond' 'Louisville' 'Lawrence' 'Canton'\n",
            " 'New Rochelle' 'Gastonia' 'Jacksonville' 'Auburn' 'Norman' 'Park Ridge'\n",
            " 'Amarillo' 'Lindenhurst' 'Huntsville' 'Fayetteville' 'Costa Mesa'\n",
            " 'Parker' 'Atlanta' 'Gladstone' 'Great Falls' 'Lakeland' 'Montgomery'\n",
            " 'Mesa' 'Green Bay' 'Anaheim' 'Marysville' 'Salem' 'Laredo' 'Grove City'\n",
            " 'Dearborn' 'Warner Robins' 'Vallejo' 'Mission Viejo' 'Rochester Hills'\n",
            " 'Plainfield' 'Sierra Vista' 'Vancouver' 'Cleveland' 'Tyler' 'Burlington'\n",
            " 'Waynesboro' 'Chester' 'Cary' 'Palm Coast' 'Mount Vernon' 'Hialeah'\n",
            " 'Oceanside' 'Evanston' 'Trenton' 'Cottage Grove' 'Bossier City'\n",
            " 'Lancaster' 'Asheville' 'Lake Elsinore' 'Omaha' 'Edmonds' 'Santa Ana'\n",
            " 'Milwaukee' 'Florence' 'Lorain' 'Linden' 'Salinas' 'New Brunswick'\n",
            " 'Garland' 'Norwich' 'Alexandria' 'Toledo' 'Farmington' 'Riverside'\n",
            " 'Torrance' 'Round Rock' 'Boca Raton' 'Virginia Beach' 'Murrieta'\n",
            " 'Olympia' 'Washington' 'Jefferson City' 'Saint Peters' 'Rockford'\n",
            " 'Brownsville' 'Yonkers' 'Oakland' 'Clinton' 'Encinitas' 'Roswell'\n",
            " 'Jonesboro' 'Antioch' 'Homestead' 'La Porte' 'Lansing' 'Cuyahoga Falls'\n",
            " 'Reno' 'Harrisonburg' 'Escondido' 'Royal Oak' 'Rockville' 'Coral Springs'\n",
            " 'Buffalo' 'Boynton Beach' 'Gulfport' 'Fresno' 'Greenville' 'Macon'\n",
            " 'Cedar Rapids' 'Providence' 'Pueblo' 'Deltona' 'Murray' 'Middletown'\n",
            " 'Freeport' 'Pico Rivera' 'Provo' 'Pleasant Grove' 'Smyrna' 'Parma'\n",
            " 'Mobile' 'New Bedford' 'Irving' 'Vineland' 'Glendale' 'Niagara Falls'\n",
            " 'Thomasville' 'Westminster' 'Coppell' 'Pomona' 'North Las Vegas'\n",
            " 'Allentown' 'Tempe' 'Laguna Niguel' 'Bridgeton' 'Everett' 'Watertown'\n",
            " 'Appleton' 'Bellevue' 'Allen' 'El Paso' 'Grapevine' 'Carrollton' 'Kent'\n",
            " 'Lafayette' 'Tigard' 'Skokie' 'Plano' 'Suffolk' 'Indianapolis' 'Bayonne'\n",
            " 'Greensboro' 'Baltimore' 'Kenosha' 'Olathe' 'Tulsa' 'Redmond' 'Raleigh'\n",
            " 'Muskogee' 'Meriden' 'Bowling Green' 'South Bend' 'Spokane' 'Keller'\n",
            " 'Port Orange' 'Medford' 'Charlottesville' 'Missoula' 'Apopka' 'Reading'\n",
            " 'Broomfield' 'Paterson' 'Oklahoma City' 'Chesapeake' 'Lubbock'\n",
            " 'Johnson City' 'San Bernardino' 'Leominster' 'Bozeman' 'Perth Amboy'\n",
            " 'Ontario' 'Rancho Cucamonga' 'Moorhead' 'Mesquite' 'Stockton'\n",
            " 'Ormond Beach' 'Sunnyvale' 'York' 'College Station' 'Saint Louis'\n",
            " 'Manteca' 'San Angelo' 'Salt Lake City' 'Knoxville' 'Little Rock'\n",
            " 'Lincoln Park' 'Marion' 'Littleton' 'Bangor' 'Southaven' 'New Castle'\n",
            " 'Midland' 'Sioux Falls' 'Fort Collins' 'Clarksville' 'Sacramento'\n",
            " 'Thousand Oaks' 'Malden' 'Holyoke' 'Albuquerque' 'Sparks' 'Coachella'\n",
            " 'Elmhurst' 'Passaic' 'North Charleston' 'Newport News' 'Jamestown'\n",
            " 'Mishawaka' 'La Quinta' 'Tallahassee' 'Nashville' 'Bellingham'\n",
            " 'Woodstock' 'Haltom City' 'Wheeling' 'Summerville' 'Hot Springs'\n",
            " 'Englewood' 'Las Cruces' 'Hoover' 'Frisco' 'Vacaville' 'Waukesha'\n",
            " 'Bakersfield' 'Pompano Beach' 'Corpus Christi' 'Redondo Beach' 'Orlando'\n",
            " 'Orange' 'Lake Charles' 'Highland Park' 'Hempstead' 'Noblesville'\n",
            " 'Apple Valley' 'Mount Pleasant' 'Sterling Heights' 'Eau Claire' 'Pharr'\n",
            " 'Billings' 'Gresham' 'Chattanooga' 'Meridian' 'Bolingbrook' 'Maple Grove'\n",
            " 'Woodland' 'Missouri City' 'Pearland' 'San Mateo' 'Grand Rapids'\n",
            " 'Visalia' 'Overland Park' 'Temecula' 'Yucaipa' 'Revere' 'Conroe'\n",
            " 'Tinley Park' 'Dubuque' 'Dearborn Heights' 'Santa Fe' 'Hickory'\n",
            " 'Carol Stream' 'Saint Cloud' 'North Miami' 'Plantation'\n",
            " 'Port Saint Lucie' 'Rock Hill' 'Odessa' 'West Allis' 'Chula Vista'\n",
            " 'Manhattan' 'Altoona' 'Thornton' 'Champaign' 'Texarkana' 'Edinburg'\n",
            " 'Baytown' 'Greenwood' 'Woonsocket' 'Superior' 'Bedford' 'Covington'\n",
            " 'Broken Arrow' 'Miramar' 'Hollywood' 'Deer Park' 'Wichita' 'Mcallen'\n",
            " 'Iowa City' 'Boise' 'Cranston' 'Port Arthur' 'Citrus Heights'\n",
            " 'The Colony' 'Daytona Beach' 'Bullhead City' 'Portage' 'Fargo' 'Elkhart'\n",
            " 'San Gabriel' 'Margate' 'Sandy Springs' 'Mentor' 'Lawton' 'Hampton'\n",
            " 'Rome' 'La Crosse' 'Lewiston' 'Hattiesburg' 'Danville' 'Logan'\n",
            " 'Waterbury' 'Athens' 'Avondale' 'Marietta' 'Yuma' 'Wausau' 'Pasco'\n",
            " 'Oak Park' 'Pensacola' 'League City' 'Gaithersburg' 'Lehi' 'Tuscaloosa'\n",
            " 'Moreno Valley' 'Georgetown' 'Loveland' 'Chandler' 'Helena' 'Kirkwood'\n",
            " 'Waco' 'Frankfort' 'Bethlehem' 'Grand Island' 'Woodbury' 'Rogers'\n",
            " 'Clovis' 'Jupiter' 'Santa Barbara' 'Cedar Hill' 'Norfolk' 'Draper'\n",
            " 'Ann Arbor' 'La Mesa' 'Pocatello' 'Holland' 'Milford' 'Buffalo Grove'\n",
            " 'Lake Forest' 'Redding' 'Chico' 'Utica' 'Conway' 'Cheyenne' 'Owensboro'\n",
            " 'Caldwell' 'Kenner' 'Nashua' 'Bartlett' 'Redwood City' 'Lebanon'\n",
            " 'Santa Maria' 'Des Plaines' 'Longview' 'Hendersonville' 'Waterloo'\n",
            " 'Cambridge' 'Palatine' 'Beverly' 'Eugene' 'Oxnard' 'Renton' 'Glenview'\n",
            " 'Delray Beach' 'Commerce City' 'Texas City' 'Wilson' 'Rio Rancho'\n",
            " 'Goldsboro' 'Montebello' 'El Cajon' 'Beaumont' 'West Palm Beach'\n",
            " 'Abilene' 'Normal' 'Saint Charles' 'Camarillo' 'Hillsboro' 'Burbank'\n",
            " 'Modesto' 'Garden City' 'Atlantic City' 'Longmont' 'Davis' 'Morgan Hill'\n",
            " 'Clifton' 'Sheboygan' 'East Point' 'Rapid City' 'Andover' 'Kissimmee'\n",
            " 'Shelton' 'Danbury' 'Sanford' 'San Marcos' 'Greeley' 'Mansfield' 'Elyria'\n",
            " 'Twin Falls' 'Coral Gables' 'Romeoville' 'Marlborough' 'Laurel' 'Bryan'\n",
            " 'Pine Bluff' 'Aberdeen' 'Hagerstown' 'East Orange' 'Arlington Heights'\n",
            " 'Oswego' 'Coon Rapids' 'San Clemente' 'San Luis Obispo' 'Springdale'\n",
            " 'Lodi' 'Mason']\n",
            "state ['Kentucky' 'California' 'Florida' 'North Carolina' 'Washington' 'Texas'\n",
            " 'Wisconsin' 'Utah' 'Nebraska' 'Pennsylvania' 'Illinois' 'Minnesota'\n",
            " 'Michigan' 'Delaware' 'Indiana' 'New York' 'Arizona' 'Virginia'\n",
            " 'Tennessee' 'Alabama' 'South Carolina' 'Oregon' 'Colorado' 'Iowa' 'Ohio'\n",
            " 'Missouri' 'Oklahoma' 'New Mexico' 'Louisiana' 'Connecticut' 'New Jersey'\n",
            " 'Massachusetts' 'Georgia' 'Nevada' 'Rhode Island' 'Mississippi'\n",
            " 'Arkansas' 'Montana' 'New Hampshire' 'Maryland' 'District of Columbia'\n",
            " 'Kansas' 'Vermont' 'Maine' 'South Dakota' 'Idaho' 'North Dakota'\n",
            " 'Wyoming' 'West Virginia']\n",
            "region ['South' 'West' 'Central' 'East']\n",
            "category ['Furniture' 'Office Supplies' 'Technology']\n",
            "sub_category ['Bookcases' 'Chairs' 'Labels' 'Tables' 'Storage' 'Furnishings' 'Art'\n",
            " 'Phones' 'Binders' 'Appliances' 'Paper' 'Accessories' 'Envelopes'\n",
            " 'Fasteners' 'Supplies' 'Machines' 'Copiers']\n",
            "product_id ['FUR-BO-10001798' 'FUR-CH-10000454' 'OFF-LA-10000240' ...\n",
            " 'OFF-AP-10003099' 'TEC-PH-10002645' 'OFF-ST-10001627']\n"
          ]
        }
      ]
    },
    {
      "cell_type": "code",
      "source": [
        "df.isnull().sum()"
      ],
      "metadata": {
        "colab": {
          "base_uri": "https://localhost:8080/",
          "height": 585
        },
        "id": "1U7hh1BuJgOc",
        "outputId": "a59ed1ae-ea09-4fce-a49d-d864acfd6d92"
      },
      "execution_count": 26,
      "outputs": [
        {
          "output_type": "execute_result",
          "data": {
            "text/plain": [
              "order_id            0\n",
              "order_date          0\n",
              "ship_mode           1\n",
              "segment             0\n",
              "country             0\n",
              "city                0\n",
              "state               0\n",
              "postal_code         0\n",
              "region              0\n",
              "category            0\n",
              "sub_category        0\n",
              "product_id          0\n",
              "cost_price          0\n",
              "list_price          0\n",
              "quantity            0\n",
              "discount_percent    0\n",
              "dtype: int64"
            ],
            "text/html": [
              "<div>\n",
              "<style scoped>\n",
              "    .dataframe tbody tr th:only-of-type {\n",
              "        vertical-align: middle;\n",
              "    }\n",
              "\n",
              "    .dataframe tbody tr th {\n",
              "        vertical-align: top;\n",
              "    }\n",
              "\n",
              "    .dataframe thead th {\n",
              "        text-align: right;\n",
              "    }\n",
              "</style>\n",
              "<table border=\"1\" class=\"dataframe\">\n",
              "  <thead>\n",
              "    <tr style=\"text-align: right;\">\n",
              "      <th></th>\n",
              "      <th>0</th>\n",
              "    </tr>\n",
              "  </thead>\n",
              "  <tbody>\n",
              "    <tr>\n",
              "      <th>order_id</th>\n",
              "      <td>0</td>\n",
              "    </tr>\n",
              "    <tr>\n",
              "      <th>order_date</th>\n",
              "      <td>0</td>\n",
              "    </tr>\n",
              "    <tr>\n",
              "      <th>ship_mode</th>\n",
              "      <td>1</td>\n",
              "    </tr>\n",
              "    <tr>\n",
              "      <th>segment</th>\n",
              "      <td>0</td>\n",
              "    </tr>\n",
              "    <tr>\n",
              "      <th>country</th>\n",
              "      <td>0</td>\n",
              "    </tr>\n",
              "    <tr>\n",
              "      <th>city</th>\n",
              "      <td>0</td>\n",
              "    </tr>\n",
              "    <tr>\n",
              "      <th>state</th>\n",
              "      <td>0</td>\n",
              "    </tr>\n",
              "    <tr>\n",
              "      <th>postal_code</th>\n",
              "      <td>0</td>\n",
              "    </tr>\n",
              "    <tr>\n",
              "      <th>region</th>\n",
              "      <td>0</td>\n",
              "    </tr>\n",
              "    <tr>\n",
              "      <th>category</th>\n",
              "      <td>0</td>\n",
              "    </tr>\n",
              "    <tr>\n",
              "      <th>sub_category</th>\n",
              "      <td>0</td>\n",
              "    </tr>\n",
              "    <tr>\n",
              "      <th>product_id</th>\n",
              "      <td>0</td>\n",
              "    </tr>\n",
              "    <tr>\n",
              "      <th>cost_price</th>\n",
              "      <td>0</td>\n",
              "    </tr>\n",
              "    <tr>\n",
              "      <th>list_price</th>\n",
              "      <td>0</td>\n",
              "    </tr>\n",
              "    <tr>\n",
              "      <th>quantity</th>\n",
              "      <td>0</td>\n",
              "    </tr>\n",
              "    <tr>\n",
              "      <th>discount_percent</th>\n",
              "      <td>0</td>\n",
              "    </tr>\n",
              "  </tbody>\n",
              "</table>\n",
              "</div><br><label><b>dtype:</b> int64</label>"
            ]
          },
          "metadata": {},
          "execution_count": 26
        }
      ]
    },
    {
      "cell_type": "code",
      "source": [
        "df.fillna('unknown',inplace = True)"
      ],
      "metadata": {
        "id": "BfFxRidnKr4C"
      },
      "execution_count": 27,
      "outputs": []
    },
    {
      "cell_type": "code",
      "source": [
        "df.isnull().sum()"
      ],
      "metadata": {
        "colab": {
          "base_uri": "https://localhost:8080/",
          "height": 585
        },
        "id": "vIH3FAA8LxSJ",
        "outputId": "1b74e148-c44c-40fb-ac78-e0741fd24d5d"
      },
      "execution_count": 28,
      "outputs": [
        {
          "output_type": "execute_result",
          "data": {
            "text/plain": [
              "order_id            0\n",
              "order_date          0\n",
              "ship_mode           0\n",
              "segment             0\n",
              "country             0\n",
              "city                0\n",
              "state               0\n",
              "postal_code         0\n",
              "region              0\n",
              "category            0\n",
              "sub_category        0\n",
              "product_id          0\n",
              "cost_price          0\n",
              "list_price          0\n",
              "quantity            0\n",
              "discount_percent    0\n",
              "dtype: int64"
            ],
            "text/html": [
              "<div>\n",
              "<style scoped>\n",
              "    .dataframe tbody tr th:only-of-type {\n",
              "        vertical-align: middle;\n",
              "    }\n",
              "\n",
              "    .dataframe tbody tr th {\n",
              "        vertical-align: top;\n",
              "    }\n",
              "\n",
              "    .dataframe thead th {\n",
              "        text-align: right;\n",
              "    }\n",
              "</style>\n",
              "<table border=\"1\" class=\"dataframe\">\n",
              "  <thead>\n",
              "    <tr style=\"text-align: right;\">\n",
              "      <th></th>\n",
              "      <th>0</th>\n",
              "    </tr>\n",
              "  </thead>\n",
              "  <tbody>\n",
              "    <tr>\n",
              "      <th>order_id</th>\n",
              "      <td>0</td>\n",
              "    </tr>\n",
              "    <tr>\n",
              "      <th>order_date</th>\n",
              "      <td>0</td>\n",
              "    </tr>\n",
              "    <tr>\n",
              "      <th>ship_mode</th>\n",
              "      <td>0</td>\n",
              "    </tr>\n",
              "    <tr>\n",
              "      <th>segment</th>\n",
              "      <td>0</td>\n",
              "    </tr>\n",
              "    <tr>\n",
              "      <th>country</th>\n",
              "      <td>0</td>\n",
              "    </tr>\n",
              "    <tr>\n",
              "      <th>city</th>\n",
              "      <td>0</td>\n",
              "    </tr>\n",
              "    <tr>\n",
              "      <th>state</th>\n",
              "      <td>0</td>\n",
              "    </tr>\n",
              "    <tr>\n",
              "      <th>postal_code</th>\n",
              "      <td>0</td>\n",
              "    </tr>\n",
              "    <tr>\n",
              "      <th>region</th>\n",
              "      <td>0</td>\n",
              "    </tr>\n",
              "    <tr>\n",
              "      <th>category</th>\n",
              "      <td>0</td>\n",
              "    </tr>\n",
              "    <tr>\n",
              "      <th>sub_category</th>\n",
              "      <td>0</td>\n",
              "    </tr>\n",
              "    <tr>\n",
              "      <th>product_id</th>\n",
              "      <td>0</td>\n",
              "    </tr>\n",
              "    <tr>\n",
              "      <th>cost_price</th>\n",
              "      <td>0</td>\n",
              "    </tr>\n",
              "    <tr>\n",
              "      <th>list_price</th>\n",
              "      <td>0</td>\n",
              "    </tr>\n",
              "    <tr>\n",
              "      <th>quantity</th>\n",
              "      <td>0</td>\n",
              "    </tr>\n",
              "    <tr>\n",
              "      <th>discount_percent</th>\n",
              "      <td>0</td>\n",
              "    </tr>\n",
              "  </tbody>\n",
              "</table>\n",
              "</div><br><label><b>dtype:</b> int64</label>"
            ]
          },
          "metadata": {},
          "execution_count": 28
        }
      ]
    },
    {
      "cell_type": "code",
      "source": [
        "df.duplicated()"
      ],
      "metadata": {
        "colab": {
          "base_uri": "https://localhost:8080/",
          "height": 458
        },
        "id": "td_pRkl-Mx1D",
        "outputId": "94e9b086-c23b-4d3b-bfa5-789d670b4b5b"
      },
      "execution_count": 29,
      "outputs": [
        {
          "output_type": "execute_result",
          "data": {
            "text/plain": [
              "0       False\n",
              "1       False\n",
              "2       False\n",
              "3       False\n",
              "4       False\n",
              "        ...  \n",
              "9989    False\n",
              "9990    False\n",
              "9991    False\n",
              "9992    False\n",
              "9993    False\n",
              "Length: 9994, dtype: bool"
            ],
            "text/html": [
              "<div>\n",
              "<style scoped>\n",
              "    .dataframe tbody tr th:only-of-type {\n",
              "        vertical-align: middle;\n",
              "    }\n",
              "\n",
              "    .dataframe tbody tr th {\n",
              "        vertical-align: top;\n",
              "    }\n",
              "\n",
              "    .dataframe thead th {\n",
              "        text-align: right;\n",
              "    }\n",
              "</style>\n",
              "<table border=\"1\" class=\"dataframe\">\n",
              "  <thead>\n",
              "    <tr style=\"text-align: right;\">\n",
              "      <th></th>\n",
              "      <th>0</th>\n",
              "    </tr>\n",
              "  </thead>\n",
              "  <tbody>\n",
              "    <tr>\n",
              "      <th>0</th>\n",
              "      <td>False</td>\n",
              "    </tr>\n",
              "    <tr>\n",
              "      <th>1</th>\n",
              "      <td>False</td>\n",
              "    </tr>\n",
              "    <tr>\n",
              "      <th>2</th>\n",
              "      <td>False</td>\n",
              "    </tr>\n",
              "    <tr>\n",
              "      <th>3</th>\n",
              "      <td>False</td>\n",
              "    </tr>\n",
              "    <tr>\n",
              "      <th>4</th>\n",
              "      <td>False</td>\n",
              "    </tr>\n",
              "    <tr>\n",
              "      <th>...</th>\n",
              "      <td>...</td>\n",
              "    </tr>\n",
              "    <tr>\n",
              "      <th>9989</th>\n",
              "      <td>False</td>\n",
              "    </tr>\n",
              "    <tr>\n",
              "      <th>9990</th>\n",
              "      <td>False</td>\n",
              "    </tr>\n",
              "    <tr>\n",
              "      <th>9991</th>\n",
              "      <td>False</td>\n",
              "    </tr>\n",
              "    <tr>\n",
              "      <th>9992</th>\n",
              "      <td>False</td>\n",
              "    </tr>\n",
              "    <tr>\n",
              "      <th>9993</th>\n",
              "      <td>False</td>\n",
              "    </tr>\n",
              "  </tbody>\n",
              "</table>\n",
              "<p>9994 rows × 1 columns</p>\n",
              "</div><br><label><b>dtype:</b> bool</label>"
            ]
          },
          "metadata": {},
          "execution_count": 29
        }
      ]
    },
    {
      "cell_type": "code",
      "source": [
        "df.duplicated().sum()"
      ],
      "metadata": {
        "colab": {
          "base_uri": "https://localhost:8080/"
        },
        "id": "h4mPuPorNEvH",
        "outputId": "1772581f-06c4-4386-b58a-638c68d0a3e2"
      },
      "execution_count": 30,
      "outputs": [
        {
          "output_type": "execute_result",
          "data": {
            "text/plain": [
              "np.int64(0)"
            ]
          },
          "metadata": {},
          "execution_count": 30
        }
      ]
    },
    {
      "cell_type": "code",
      "source": [
        "df.columns"
      ],
      "metadata": {
        "colab": {
          "base_uri": "https://localhost:8080/"
        },
        "id": "zkJyG62wO4Xi",
        "outputId": "eff14542-b7e0-4f83-aab4-d27d3b483d88"
      },
      "execution_count": 31,
      "outputs": [
        {
          "output_type": "execute_result",
          "data": {
            "text/plain": [
              "Index(['order_id', 'order_date', 'ship_mode', 'segment', 'country', 'city',\n",
              "       'state', 'postal_code', 'region', 'category', 'sub_category',\n",
              "       'product_id', 'cost_price', 'list_price', 'quantity',\n",
              "       'discount_percent'],\n",
              "      dtype='object')"
            ]
          },
          "metadata": {},
          "execution_count": 31
        }
      ]
    },
    {
      "cell_type": "markdown",
      "source": [
        "![image.png](data:image/png;base64,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)"
      ],
      "metadata": {
        "id": "x_0pbtMIPc4S"
      }
    },
    {
      "cell_type": "code",
      "source": [
        "df['discount'] = (df['list_price'] * df['discount_percent']) / 100\n",
        "df['sale_price'] = df['list_price'] - df['discount']\n",
        "df['profit'] = (df['sale_price'] - df['cost_price']) * df['quantity']"
      ],
      "metadata": {
        "id": "5wiCZWeLNOMZ"
      },
      "execution_count": 32,
      "outputs": []
    },
    {
      "cell_type": "code",
      "source": [
        "df.columns"
      ],
      "metadata": {
        "colab": {
          "base_uri": "https://localhost:8080/"
        },
        "id": "338GfkRCPec8",
        "outputId": "f00dcd29-d87a-4171-f88b-9d8d2ab0f8d8"
      },
      "execution_count": 33,
      "outputs": [
        {
          "output_type": "execute_result",
          "data": {
            "text/plain": [
              "Index(['order_id', 'order_date', 'ship_mode', 'segment', 'country', 'city',\n",
              "       'state', 'postal_code', 'region', 'category', 'sub_category',\n",
              "       'product_id', 'cost_price', 'list_price', 'quantity',\n",
              "       'discount_percent', 'discount', 'sale_price', 'profit'],\n",
              "      dtype='object')"
            ]
          },
          "metadata": {},
          "execution_count": 33
        }
      ]
    },
    {
      "cell_type": "code",
      "source": [
        "df.isnull().sum()"
      ],
      "metadata": {
        "colab": {
          "base_uri": "https://localhost:8080/",
          "height": 680
        },
        "id": "vt_hEW6CPgov",
        "outputId": "d1ea2a3a-6bc5-438c-d857-38a999cd78a4"
      },
      "execution_count": 34,
      "outputs": [
        {
          "output_type": "execute_result",
          "data": {
            "text/plain": [
              "order_id            0\n",
              "order_date          0\n",
              "ship_mode           0\n",
              "segment             0\n",
              "country             0\n",
              "city                0\n",
              "state               0\n",
              "postal_code         0\n",
              "region              0\n",
              "category            0\n",
              "sub_category        0\n",
              "product_id          0\n",
              "cost_price          0\n",
              "list_price          0\n",
              "quantity            0\n",
              "discount_percent    0\n",
              "discount            0\n",
              "sale_price          0\n",
              "profit              0\n",
              "dtype: int64"
            ],
            "text/html": [
              "<div>\n",
              "<style scoped>\n",
              "    .dataframe tbody tr th:only-of-type {\n",
              "        vertical-align: middle;\n",
              "    }\n",
              "\n",
              "    .dataframe tbody tr th {\n",
              "        vertical-align: top;\n",
              "    }\n",
              "\n",
              "    .dataframe thead th {\n",
              "        text-align: right;\n",
              "    }\n",
              "</style>\n",
              "<table border=\"1\" class=\"dataframe\">\n",
              "  <thead>\n",
              "    <tr style=\"text-align: right;\">\n",
              "      <th></th>\n",
              "      <th>0</th>\n",
              "    </tr>\n",
              "  </thead>\n",
              "  <tbody>\n",
              "    <tr>\n",
              "      <th>order_id</th>\n",
              "      <td>0</td>\n",
              "    </tr>\n",
              "    <tr>\n",
              "      <th>order_date</th>\n",
              "      <td>0</td>\n",
              "    </tr>\n",
              "    <tr>\n",
              "      <th>ship_mode</th>\n",
              "      <td>0</td>\n",
              "    </tr>\n",
              "    <tr>\n",
              "      <th>segment</th>\n",
              "      <td>0</td>\n",
              "    </tr>\n",
              "    <tr>\n",
              "      <th>country</th>\n",
              "      <td>0</td>\n",
              "    </tr>\n",
              "    <tr>\n",
              "      <th>city</th>\n",
              "      <td>0</td>\n",
              "    </tr>\n",
              "    <tr>\n",
              "      <th>state</th>\n",
              "      <td>0</td>\n",
              "    </tr>\n",
              "    <tr>\n",
              "      <th>postal_code</th>\n",
              "      <td>0</td>\n",
              "    </tr>\n",
              "    <tr>\n",
              "      <th>region</th>\n",
              "      <td>0</td>\n",
              "    </tr>\n",
              "    <tr>\n",
              "      <th>category</th>\n",
              "      <td>0</td>\n",
              "    </tr>\n",
              "    <tr>\n",
              "      <th>sub_category</th>\n",
              "      <td>0</td>\n",
              "    </tr>\n",
              "    <tr>\n",
              "      <th>product_id</th>\n",
              "      <td>0</td>\n",
              "    </tr>\n",
              "    <tr>\n",
              "      <th>cost_price</th>\n",
              "      <td>0</td>\n",
              "    </tr>\n",
              "    <tr>\n",
              "      <th>list_price</th>\n",
              "      <td>0</td>\n",
              "    </tr>\n",
              "    <tr>\n",
              "      <th>quantity</th>\n",
              "      <td>0</td>\n",
              "    </tr>\n",
              "    <tr>\n",
              "      <th>discount_percent</th>\n",
              "      <td>0</td>\n",
              "    </tr>\n",
              "    <tr>\n",
              "      <th>discount</th>\n",
              "      <td>0</td>\n",
              "    </tr>\n",
              "    <tr>\n",
              "      <th>sale_price</th>\n",
              "      <td>0</td>\n",
              "    </tr>\n",
              "    <tr>\n",
              "      <th>profit</th>\n",
              "      <td>0</td>\n",
              "    </tr>\n",
              "  </tbody>\n",
              "</table>\n",
              "</div><br><label><b>dtype:</b> int64</label>"
            ]
          },
          "metadata": {},
          "execution_count": 34
        }
      ]
    },
    {
      "cell_type": "code",
      "source": [
        "df.duplicated().sum()"
      ],
      "metadata": {
        "colab": {
          "base_uri": "https://localhost:8080/"
        },
        "id": "cFxWEQZqPmas",
        "outputId": "ec83e600-4005-4c8c-dc58-4c504e236897"
      },
      "execution_count": 35,
      "outputs": [
        {
          "output_type": "execute_result",
          "data": {
            "text/plain": [
              "np.int64(0)"
            ]
          },
          "metadata": {},
          "execution_count": 35
        }
      ]
    },
    {
      "cell_type": "code",
      "source": [
        "df.to_csv('orders.csv',index=False)"
      ],
      "metadata": {
        "id": "qUqMVtu_PuuU"
      },
      "execution_count": 36,
      "outputs": []
    },
    {
      "cell_type": "code",
      "source": [
        "df"
      ],
      "metadata": {
        "id": "L7zTPW4LHpYj",
        "outputId": "7fe091c2-49c1-465e-83ab-7527b86bc03b",
        "colab": {
          "base_uri": "https://localhost:8080/",
          "height": 617
        }
      },
      "execution_count": 37,
      "outputs": [
        {
          "output_type": "execute_result",
          "data": {
            "text/plain": [
              "      order_id order_date       ship_mode    segment        country  \\\n",
              "0            1 2023-03-01    Second Class   Consumer  United States   \n",
              "1            2 2023-08-15    Second Class   Consumer  United States   \n",
              "2            3 2023-01-10    Second Class  Corporate  United States   \n",
              "3            4 2022-06-18  Standard Class   Consumer  United States   \n",
              "4            5 2022-07-13  Standard Class   Consumer  United States   \n",
              "...        ...        ...             ...        ...            ...   \n",
              "9989      9990 2023-02-18    Second Class   Consumer  United States   \n",
              "9990      9991 2023-03-17  Standard Class   Consumer  United States   \n",
              "9991      9992 2022-08-07  Standard Class   Consumer  United States   \n",
              "9992      9993 2022-11-19  Standard Class   Consumer  United States   \n",
              "9993      9994 2022-07-17    Second Class   Consumer  United States   \n",
              "\n",
              "                 city       state  postal_code region         category  \\\n",
              "0           Henderson    Kentucky        42420  South        Furniture   \n",
              "1           Henderson    Kentucky        42420  South        Furniture   \n",
              "2         Los Angeles  California        90036   West  Office Supplies   \n",
              "3     Fort Lauderdale     Florida        33311  South        Furniture   \n",
              "4     Fort Lauderdale     Florida        33311  South  Office Supplies   \n",
              "...               ...         ...          ...    ...              ...   \n",
              "9989            Miami     Florida        33180  South        Furniture   \n",
              "9990       Costa Mesa  California        92627   West        Furniture   \n",
              "9991       Costa Mesa  California        92627   West       Technology   \n",
              "9992       Costa Mesa  California        92627   West  Office Supplies   \n",
              "9993      Westminster  California        92683   West  Office Supplies   \n",
              "\n",
              "     sub_category       product_id  cost_price  list_price  quantity  \\\n",
              "0       Bookcases  FUR-BO-10001798         240         260         2   \n",
              "1          Chairs  FUR-CH-10000454         600         730         3   \n",
              "2          Labels  OFF-LA-10000240          10          10         2   \n",
              "3          Tables  FUR-TA-10000577         780         960         5   \n",
              "4         Storage  OFF-ST-10000760          20          20         2   \n",
              "...           ...              ...         ...         ...       ...   \n",
              "9989  Furnishings  FUR-FU-10001889          30          30         3   \n",
              "9990  Furnishings  FUR-FU-10000747          70          90         2   \n",
              "9991       Phones  TEC-PH-10003645         220         260         2   \n",
              "9992        Paper  OFF-PA-10004041          30          30         4   \n",
              "9993   Appliances  OFF-AP-10002684         210         240         2   \n",
              "\n",
              "      discount_percent  discount  sale_price  profit  \n",
              "0                    2       5.2       254.8    29.6  \n",
              "1                    3      21.9       708.1   324.3  \n",
              "2                    5       0.5         9.5    -1.0  \n",
              "3                    2      19.2       940.8   804.0  \n",
              "4                    5       1.0        19.0    -2.0  \n",
              "...                ...       ...         ...     ...  \n",
              "9989                 4       1.2        28.8    -3.6  \n",
              "9990                 4       3.6        86.4    32.8  \n",
              "9991                 2       5.2       254.8    69.6  \n",
              "9992                 3       0.9        29.1    -3.6  \n",
              "9993                 3       7.2       232.8    45.6  \n",
              "\n",
              "[9994 rows x 19 columns]"
            ],
            "text/html": [
              "\n",
              "  <div id=\"df-1339e7ac-d8fe-4bc5-ae1c-901601cda67d\" class=\"colab-df-container\">\n",
              "    <div>\n",
              "<style scoped>\n",
              "    .dataframe tbody tr th:only-of-type {\n",
              "        vertical-align: middle;\n",
              "    }\n",
              "\n",
              "    .dataframe tbody tr th {\n",
              "        vertical-align: top;\n",
              "    }\n",
              "\n",
              "    .dataframe thead th {\n",
              "        text-align: right;\n",
              "    }\n",
              "</style>\n",
              "<table border=\"1\" class=\"dataframe\">\n",
              "  <thead>\n",
              "    <tr style=\"text-align: right;\">\n",
              "      <th></th>\n",
              "      <th>order_id</th>\n",
              "      <th>order_date</th>\n",
              "      <th>ship_mode</th>\n",
              "      <th>segment</th>\n",
              "      <th>country</th>\n",
              "      <th>city</th>\n",
              "      <th>state</th>\n",
              "      <th>postal_code</th>\n",
              "      <th>region</th>\n",
              "      <th>category</th>\n",
              "      <th>sub_category</th>\n",
              "      <th>product_id</th>\n",
              "      <th>cost_price</th>\n",
              "      <th>list_price</th>\n",
              "      <th>quantity</th>\n",
              "      <th>discount_percent</th>\n",
              "      <th>discount</th>\n",
              "      <th>sale_price</th>\n",
              "      <th>profit</th>\n",
              "    </tr>\n",
              "  </thead>\n",
              "  <tbody>\n",
              "    <tr>\n",
              "      <th>0</th>\n",
              "      <td>1</td>\n",
              "      <td>2023-03-01</td>\n",
              "      <td>Second Class</td>\n",
              "      <td>Consumer</td>\n",
              "      <td>United States</td>\n",
              "      <td>Henderson</td>\n",
              "      <td>Kentucky</td>\n",
              "      <td>42420</td>\n",
              "      <td>South</td>\n",
              "      <td>Furniture</td>\n",
              "      <td>Bookcases</td>\n",
              "      <td>FUR-BO-10001798</td>\n",
              "      <td>240</td>\n",
              "      <td>260</td>\n",
              "      <td>2</td>\n",
              "      <td>2</td>\n",
              "      <td>5.2</td>\n",
              "      <td>254.8</td>\n",
              "      <td>29.6</td>\n",
              "    </tr>\n",
              "    <tr>\n",
              "      <th>1</th>\n",
              "      <td>2</td>\n",
              "      <td>2023-08-15</td>\n",
              "      <td>Second Class</td>\n",
              "      <td>Consumer</td>\n",
              "      <td>United States</td>\n",
              "      <td>Henderson</td>\n",
              "      <td>Kentucky</td>\n",
              "      <td>42420</td>\n",
              "      <td>South</td>\n",
              "      <td>Furniture</td>\n",
              "      <td>Chairs</td>\n",
              "      <td>FUR-CH-10000454</td>\n",
              "      <td>600</td>\n",
              "      <td>730</td>\n",
              "      <td>3</td>\n",
              "      <td>3</td>\n",
              "      <td>21.9</td>\n",
              "      <td>708.1</td>\n",
              "      <td>324.3</td>\n",
              "    </tr>\n",
              "    <tr>\n",
              "      <th>2</th>\n",
              "      <td>3</td>\n",
              "      <td>2023-01-10</td>\n",
              "      <td>Second Class</td>\n",
              "      <td>Corporate</td>\n",
              "      <td>United States</td>\n",
              "      <td>Los Angeles</td>\n",
              "      <td>California</td>\n",
              "      <td>90036</td>\n",
              "      <td>West</td>\n",
              "      <td>Office Supplies</td>\n",
              "      <td>Labels</td>\n",
              "      <td>OFF-LA-10000240</td>\n",
              "      <td>10</td>\n",
              "      <td>10</td>\n",
              "      <td>2</td>\n",
              "      <td>5</td>\n",
              "      <td>0.5</td>\n",
              "      <td>9.5</td>\n",
              "      <td>-1.0</td>\n",
              "    </tr>\n",
              "    <tr>\n",
              "      <th>3</th>\n",
              "      <td>4</td>\n",
              "      <td>2022-06-18</td>\n",
              "      <td>Standard Class</td>\n",
              "      <td>Consumer</td>\n",
              "      <td>United States</td>\n",
              "      <td>Fort Lauderdale</td>\n",
              "      <td>Florida</td>\n",
              "      <td>33311</td>\n",
              "      <td>South</td>\n",
              "      <td>Furniture</td>\n",
              "      <td>Tables</td>\n",
              "      <td>FUR-TA-10000577</td>\n",
              "      <td>780</td>\n",
              "      <td>960</td>\n",
              "      <td>5</td>\n",
              "      <td>2</td>\n",
              "      <td>19.2</td>\n",
              "      <td>940.8</td>\n",
              "      <td>804.0</td>\n",
              "    </tr>\n",
              "    <tr>\n",
              "      <th>4</th>\n",
              "      <td>5</td>\n",
              "      <td>2022-07-13</td>\n",
              "      <td>Standard Class</td>\n",
              "      <td>Consumer</td>\n",
              "      <td>United States</td>\n",
              "      <td>Fort Lauderdale</td>\n",
              "      <td>Florida</td>\n",
              "      <td>33311</td>\n",
              "      <td>South</td>\n",
              "      <td>Office Supplies</td>\n",
              "      <td>Storage</td>\n",
              "      <td>OFF-ST-10000760</td>\n",
              "      <td>20</td>\n",
              "      <td>20</td>\n",
              "      <td>2</td>\n",
              "      <td>5</td>\n",
              "      <td>1.0</td>\n",
              "      <td>19.0</td>\n",
              "      <td>-2.0</td>\n",
              "    </tr>\n",
              "    <tr>\n",
              "      <th>...</th>\n",
              "      <td>...</td>\n",
              "      <td>...</td>\n",
              "      <td>...</td>\n",
              "      <td>...</td>\n",
              "      <td>...</td>\n",
              "      <td>...</td>\n",
              "      <td>...</td>\n",
              "      <td>...</td>\n",
              "      <td>...</td>\n",
              "      <td>...</td>\n",
              "      <td>...</td>\n",
              "      <td>...</td>\n",
              "      <td>...</td>\n",
              "      <td>...</td>\n",
              "      <td>...</td>\n",
              "      <td>...</td>\n",
              "      <td>...</td>\n",
              "      <td>...</td>\n",
              "      <td>...</td>\n",
              "    </tr>\n",
              "    <tr>\n",
              "      <th>9989</th>\n",
              "      <td>9990</td>\n",
              "      <td>2023-02-18</td>\n",
              "      <td>Second Class</td>\n",
              "      <td>Consumer</td>\n",
              "      <td>United States</td>\n",
              "      <td>Miami</td>\n",
              "      <td>Florida</td>\n",
              "      <td>33180</td>\n",
              "      <td>South</td>\n",
              "      <td>Furniture</td>\n",
              "      <td>Furnishings</td>\n",
              "      <td>FUR-FU-10001889</td>\n",
              "      <td>30</td>\n",
              "      <td>30</td>\n",
              "      <td>3</td>\n",
              "      <td>4</td>\n",
              "      <td>1.2</td>\n",
              "      <td>28.8</td>\n",
              "      <td>-3.6</td>\n",
              "    </tr>\n",
              "    <tr>\n",
              "      <th>9990</th>\n",
              "      <td>9991</td>\n",
              "      <td>2023-03-17</td>\n",
              "      <td>Standard Class</td>\n",
              "      <td>Consumer</td>\n",
              "      <td>United States</td>\n",
              "      <td>Costa Mesa</td>\n",
              "      <td>California</td>\n",
              "      <td>92627</td>\n",
              "      <td>West</td>\n",
              "      <td>Furniture</td>\n",
              "      <td>Furnishings</td>\n",
              "      <td>FUR-FU-10000747</td>\n",
              "      <td>70</td>\n",
              "      <td>90</td>\n",
              "      <td>2</td>\n",
              "      <td>4</td>\n",
              "      <td>3.6</td>\n",
              "      <td>86.4</td>\n",
              "      <td>32.8</td>\n",
              "    </tr>\n",
              "    <tr>\n",
              "      <th>9991</th>\n",
              "      <td>9992</td>\n",
              "      <td>2022-08-07</td>\n",
              "      <td>Standard Class</td>\n",
              "      <td>Consumer</td>\n",
              "      <td>United States</td>\n",
              "      <td>Costa Mesa</td>\n",
              "      <td>California</td>\n",
              "      <td>92627</td>\n",
              "      <td>West</td>\n",
              "      <td>Technology</td>\n",
              "      <td>Phones</td>\n",
              "      <td>TEC-PH-10003645</td>\n",
              "      <td>220</td>\n",
              "      <td>260</td>\n",
              "      <td>2</td>\n",
              "      <td>2</td>\n",
              "      <td>5.2</td>\n",
              "      <td>254.8</td>\n",
              "      <td>69.6</td>\n",
              "    </tr>\n",
              "    <tr>\n",
              "      <th>9992</th>\n",
              "      <td>9993</td>\n",
              "      <td>2022-11-19</td>\n",
              "      <td>Standard Class</td>\n",
              "      <td>Consumer</td>\n",
              "      <td>United States</td>\n",
              "      <td>Costa Mesa</td>\n",
              "      <td>California</td>\n",
              "      <td>92627</td>\n",
              "      <td>West</td>\n",
              "      <td>Office Supplies</td>\n",
              "      <td>Paper</td>\n",
              "      <td>OFF-PA-10004041</td>\n",
              "      <td>30</td>\n",
              "      <td>30</td>\n",
              "      <td>4</td>\n",
              "      <td>3</td>\n",
              "      <td>0.9</td>\n",
              "      <td>29.1</td>\n",
              "      <td>-3.6</td>\n",
              "    </tr>\n",
              "    <tr>\n",
              "      <th>9993</th>\n",
              "      <td>9994</td>\n",
              "      <td>2022-07-17</td>\n",
              "      <td>Second Class</td>\n",
              "      <td>Consumer</td>\n",
              "      <td>United States</td>\n",
              "      <td>Westminster</td>\n",
              "      <td>California</td>\n",
              "      <td>92683</td>\n",
              "      <td>West</td>\n",
              "      <td>Office Supplies</td>\n",
              "      <td>Appliances</td>\n",
              "      <td>OFF-AP-10002684</td>\n",
              "      <td>210</td>\n",
              "      <td>240</td>\n",
              "      <td>2</td>\n",
              "      <td>3</td>\n",
              "      <td>7.2</td>\n",
              "      <td>232.8</td>\n",
              "      <td>45.6</td>\n",
              "    </tr>\n",
              "  </tbody>\n",
              "</table>\n",
              "<p>9994 rows × 19 columns</p>\n",
              "</div>\n",
              "    <div class=\"colab-df-buttons\">\n",
              "\n",
              "  <div class=\"colab-df-container\">\n",
              "    <button class=\"colab-df-convert\" onclick=\"convertToInteractive('df-1339e7ac-d8fe-4bc5-ae1c-901601cda67d')\"\n",
              "            title=\"Convert this dataframe to an interactive table.\"\n",
              "            style=\"display:none;\">\n",
              "\n",
              "  <svg xmlns=\"http://www.w3.org/2000/svg\" height=\"24px\" viewBox=\"0 -960 960 960\">\n",
              "    <path d=\"M120-120v-720h720v720H120Zm60-500h600v-160H180v160Zm220 220h160v-160H400v160Zm0 220h160v-160H400v160ZM180-400h160v-160H180v160Zm440 0h160v-160H620v160ZM180-180h160v-160H180v160Zm440 0h160v-160H620v160Z\"/>\n",
              "  </svg>\n",
              "    </button>\n",
              "\n",
              "  <style>\n",
              "    .colab-df-container {\n",
              "      display:flex;\n",
              "      gap: 12px;\n",
              "    }\n",
              "\n",
              "    .colab-df-convert {\n",
              "      background-color: #E8F0FE;\n",
              "      border: none;\n",
              "      border-radius: 50%;\n",
              "      cursor: pointer;\n",
              "      display: none;\n",
              "      fill: #1967D2;\n",
              "      height: 32px;\n",
              "      padding: 0 0 0 0;\n",
              "      width: 32px;\n",
              "    }\n",
              "\n",
              "    .colab-df-convert:hover {\n",
              "      background-color: #E2EBFA;\n",
              "      box-shadow: 0px 1px 2px rgba(60, 64, 67, 0.3), 0px 1px 3px 1px rgba(60, 64, 67, 0.15);\n",
              "      fill: #174EA6;\n",
              "    }\n",
              "\n",
              "    .colab-df-buttons div {\n",
              "      margin-bottom: 4px;\n",
              "    }\n",
              "\n",
              "    [theme=dark] .colab-df-convert {\n",
              "      background-color: #3B4455;\n",
              "      fill: #D2E3FC;\n",
              "    }\n",
              "\n",
              "    [theme=dark] .colab-df-convert:hover {\n",
              "      background-color: #434B5C;\n",
              "      box-shadow: 0px 1px 3px 1px rgba(0, 0, 0, 0.15);\n",
              "      filter: drop-shadow(0px 1px 2px rgba(0, 0, 0, 0.3));\n",
              "      fill: #FFFFFF;\n",
              "    }\n",
              "  </style>\n",
              "\n",
              "    <script>\n",
              "      const buttonEl =\n",
              "        document.querySelector('#df-1339e7ac-d8fe-4bc5-ae1c-901601cda67d button.colab-df-convert');\n",
              "      buttonEl.style.display =\n",
              "        google.colab.kernel.accessAllowed ? 'block' : 'none';\n",
              "\n",
              "      async function convertToInteractive(key) {\n",
              "        const element = document.querySelector('#df-1339e7ac-d8fe-4bc5-ae1c-901601cda67d');\n",
              "        const dataTable =\n",
              "          await google.colab.kernel.invokeFunction('convertToInteractive',\n",
              "                                                    [key], {});\n",
              "        if (!dataTable) return;\n",
              "\n",
              "        const docLinkHtml = 'Like what you see? Visit the ' +\n",
              "          '<a target=\"_blank\" href=https://colab.research.google.com/notebooks/data_table.ipynb>data table notebook</a>'\n",
              "          + ' to learn more about interactive tables.';\n",
              "        element.innerHTML = '';\n",
              "        dataTable['output_type'] = 'display_data';\n",
              "        await google.colab.output.renderOutput(dataTable, element);\n",
              "        const docLink = document.createElement('div');\n",
              "        docLink.innerHTML = docLinkHtml;\n",
              "        element.appendChild(docLink);\n",
              "      }\n",
              "    </script>\n",
              "  </div>\n",
              "\n",
              "\n",
              "<div id=\"df-4084d804-7cf4-4522-b462-da26ac79f0a4\">\n",
              "  <button class=\"colab-df-quickchart\" onclick=\"quickchart('df-4084d804-7cf4-4522-b462-da26ac79f0a4')\"\n",
              "            title=\"Suggest charts\"\n",
              "            style=\"display:none;\">\n",
              "\n",
              "<svg xmlns=\"http://www.w3.org/2000/svg\" height=\"24px\"viewBox=\"0 0 24 24\"\n",
              "     width=\"24px\">\n",
              "    <g>\n",
              "        <path d=\"M19 3H5c-1.1 0-2 .9-2 2v14c0 1.1.9 2 2 2h14c1.1 0 2-.9 2-2V5c0-1.1-.9-2-2-2zM9 17H7v-7h2v7zm4 0h-2V7h2v10zm4 0h-2v-4h2v4z\"/>\n",
              "    </g>\n",
              "</svg>\n",
              "  </button>\n",
              "\n",
              "<style>\n",
              "  .colab-df-quickchart {\n",
              "      --bg-color: #E8F0FE;\n",
              "      --fill-color: #1967D2;\n",
              "      --hover-bg-color: #E2EBFA;\n",
              "      --hover-fill-color: #174EA6;\n",
              "      --disabled-fill-color: #AAA;\n",
              "      --disabled-bg-color: #DDD;\n",
              "  }\n",
              "\n",
              "  [theme=dark] .colab-df-quickchart {\n",
              "      --bg-color: #3B4455;\n",
              "      --fill-color: #D2E3FC;\n",
              "      --hover-bg-color: #434B5C;\n",
              "      --hover-fill-color: #FFFFFF;\n",
              "      --disabled-bg-color: #3B4455;\n",
              "      --disabled-fill-color: #666;\n",
              "  }\n",
              "\n",
              "  .colab-df-quickchart {\n",
              "    background-color: var(--bg-color);\n",
              "    border: none;\n",
              "    border-radius: 50%;\n",
              "    cursor: pointer;\n",
              "    display: none;\n",
              "    fill: var(--fill-color);\n",
              "    height: 32px;\n",
              "    padding: 0;\n",
              "    width: 32px;\n",
              "  }\n",
              "\n",
              "  .colab-df-quickchart:hover {\n",
              "    background-color: var(--hover-bg-color);\n",
              "    box-shadow: 0 1px 2px rgba(60, 64, 67, 0.3), 0 1px 3px 1px rgba(60, 64, 67, 0.15);\n",
              "    fill: var(--button-hover-fill-color);\n",
              "  }\n",
              "\n",
              "  .colab-df-quickchart-complete:disabled,\n",
              "  .colab-df-quickchart-complete:disabled:hover {\n",
              "    background-color: var(--disabled-bg-color);\n",
              "    fill: var(--disabled-fill-color);\n",
              "    box-shadow: none;\n",
              "  }\n",
              "\n",
              "  .colab-df-spinner {\n",
              "    border: 2px solid var(--fill-color);\n",
              "    border-color: transparent;\n",
              "    border-bottom-color: var(--fill-color);\n",
              "    animation:\n",
              "      spin 1s steps(1) infinite;\n",
              "  }\n",
              "\n",
              "  @keyframes spin {\n",
              "    0% {\n",
              "      border-color: transparent;\n",
              "      border-bottom-color: var(--fill-color);\n",
              "      border-left-color: var(--fill-color);\n",
              "    }\n",
              "    20% {\n",
              "      border-color: transparent;\n",
              "      border-left-color: var(--fill-color);\n",
              "      border-top-color: var(--fill-color);\n",
              "    }\n",
              "    30% {\n",
              "      border-color: transparent;\n",
              "      border-left-color: var(--fill-color);\n",
              "      border-top-color: var(--fill-color);\n",
              "      border-right-color: var(--fill-color);\n",
              "    }\n",
              "    40% {\n",
              "      border-color: transparent;\n",
              "      border-right-color: var(--fill-color);\n",
              "      border-top-color: var(--fill-color);\n",
              "    }\n",
              "    60% {\n",
              "      border-color: transparent;\n",
              "      border-right-color: var(--fill-color);\n",
              "    }\n",
              "    80% {\n",
              "      border-color: transparent;\n",
              "      border-right-color: var(--fill-color);\n",
              "      border-bottom-color: var(--fill-color);\n",
              "    }\n",
              "    90% {\n",
              "      border-color: transparent;\n",
              "      border-bottom-color: var(--fill-color);\n",
              "    }\n",
              "  }\n",
              "</style>\n",
              "\n",
              "  <script>\n",
              "    async function quickchart(key) {\n",
              "      const quickchartButtonEl =\n",
              "        document.querySelector('#' + key + ' button');\n",
              "      quickchartButtonEl.disabled = true;  // To prevent multiple clicks.\n",
              "      quickchartButtonEl.classList.add('colab-df-spinner');\n",
              "      try {\n",
              "        const charts = await google.colab.kernel.invokeFunction(\n",
              "            'suggestCharts', [key], {});\n",
              "      } catch (error) {\n",
              "        console.error('Error during call to suggestCharts:', error);\n",
              "      }\n",
              "      quickchartButtonEl.classList.remove('colab-df-spinner');\n",
              "      quickchartButtonEl.classList.add('colab-df-quickchart-complete');\n",
              "    }\n",
              "    (() => {\n",
              "      let quickchartButtonEl =\n",
              "        document.querySelector('#df-4084d804-7cf4-4522-b462-da26ac79f0a4 button');\n",
              "      quickchartButtonEl.style.display =\n",
              "        google.colab.kernel.accessAllowed ? 'block' : 'none';\n",
              "    })();\n",
              "  </script>\n",
              "</div>\n",
              "\n",
              "  <div id=\"id_aa467754-79f6-46d6-8cef-0939ac2db1e4\">\n",
              "    <style>\n",
              "      .colab-df-generate {\n",
              "        background-color: #E8F0FE;\n",
              "        border: none;\n",
              "        border-radius: 50%;\n",
              "        cursor: pointer;\n",
              "        display: none;\n",
              "        fill: #1967D2;\n",
              "        height: 32px;\n",
              "        padding: 0 0 0 0;\n",
              "        width: 32px;\n",
              "      }\n",
              "\n",
              "      .colab-df-generate:hover {\n",
              "        background-color: #E2EBFA;\n",
              "        box-shadow: 0px 1px 2px rgba(60, 64, 67, 0.3), 0px 1px 3px 1px rgba(60, 64, 67, 0.15);\n",
              "        fill: #174EA6;\n",
              "      }\n",
              "\n",
              "      [theme=dark] .colab-df-generate {\n",
              "        background-color: #3B4455;\n",
              "        fill: #D2E3FC;\n",
              "      }\n",
              "\n",
              "      [theme=dark] .colab-df-generate:hover {\n",
              "        background-color: #434B5C;\n",
              "        box-shadow: 0px 1px 3px 1px rgba(0, 0, 0, 0.15);\n",
              "        filter: drop-shadow(0px 1px 2px rgba(0, 0, 0, 0.3));\n",
              "        fill: #FFFFFF;\n",
              "      }\n",
              "    </style>\n",
              "    <button class=\"colab-df-generate\" onclick=\"generateWithVariable('df')\"\n",
              "            title=\"Generate code using this dataframe.\"\n",
              "            style=\"display:none;\">\n",
              "\n",
              "  <svg xmlns=\"http://www.w3.org/2000/svg\" height=\"24px\"viewBox=\"0 0 24 24\"\n",
              "       width=\"24px\">\n",
              "    <path d=\"M7,19H8.4L18.45,9,17,7.55,7,17.6ZM5,21V16.75L18.45,3.32a2,2,0,0,1,2.83,0l1.4,1.43a1.91,1.91,0,0,1,.58,1.4,1.91,1.91,0,0,1-.58,1.4L9.25,21ZM18.45,9,17,7.55Zm-12,3A5.31,5.31,0,0,0,4.9,8.1,5.31,5.31,0,0,0,1,6.5,5.31,5.31,0,0,0,4.9,4.9,5.31,5.31,0,0,0,6.5,1,5.31,5.31,0,0,0,8.1,4.9,5.31,5.31,0,0,0,12,6.5,5.46,5.46,0,0,0,6.5,12Z\"/>\n",
              "  </svg>\n",
              "    </button>\n",
              "    <script>\n",
              "      (() => {\n",
              "      const buttonEl =\n",
              "        document.querySelector('#id_aa467754-79f6-46d6-8cef-0939ac2db1e4 button.colab-df-generate');\n",
              "      buttonEl.style.display =\n",
              "        google.colab.kernel.accessAllowed ? 'block' : 'none';\n",
              "\n",
              "      buttonEl.onclick = () => {\n",
              "        google.colab.notebook.generateWithVariable('df');\n",
              "      }\n",
              "      })();\n",
              "    </script>\n",
              "  </div>\n",
              "\n",
              "    </div>\n",
              "  </div>\n"
            ],
            "application/vnd.google.colaboratory.intrinsic+json": {
              "type": "dataframe",
              "variable_name": "df",
              "summary": "{\n  \"name\": \"df\",\n  \"rows\": 9994,\n  \"fields\": [\n    {\n      \"column\": \"order_id\",\n      \"properties\": {\n        \"dtype\": \"number\",\n        \"std\": 2885,\n        \"min\": 1,\n        \"max\": 9994,\n        \"num_unique_values\": 9994,\n        \"samples\": [\n          3126,\n          1442,\n          4511\n        ],\n        \"semantic_type\": \"\",\n        \"description\": \"\"\n      }\n    },\n    {\n      \"column\": \"order_date\",\n      \"properties\": {\n        \"dtype\": \"date\",\n        \"min\": \"2022-01-01 00:00:00\",\n        \"max\": \"2023-12-31 00:00:00\",\n        \"num_unique_values\": 730,\n        \"samples\": [\n          \"2022-11-04 00:00:00\",\n          \"2023-10-14 00:00:00\",\n          \"2023-09-23 00:00:00\"\n        ],\n        \"semantic_type\": \"\",\n        \"description\": \"\"\n      }\n    },\n    {\n      \"column\": \"ship_mode\",\n      \"properties\": {\n        \"dtype\": \"category\",\n        \"num_unique_values\": 6,\n        \"samples\": [\n          \"Second Class\",\n          \"Standard Class\",\n          \"Same Day\"\n        ],\n        \"semantic_type\": \"\",\n        \"description\": \"\"\n      }\n    },\n    {\n      \"column\": \"segment\",\n      \"properties\": {\n        \"dtype\": \"category\",\n        \"num_unique_values\": 3,\n        \"samples\": [\n          \"Consumer\",\n          \"Corporate\",\n          \"Home Office\"\n        ],\n        \"semantic_type\": \"\",\n        \"description\": \"\"\n      }\n    },\n    {\n      \"column\": \"country\",\n      \"properties\": {\n        \"dtype\": \"category\",\n        \"num_unique_values\": 1,\n        \"samples\": [\n          \"United States\"\n        ],\n        \"semantic_type\": \"\",\n        \"description\": \"\"\n      }\n    },\n    {\n      \"column\": \"city\",\n      \"properties\": {\n        \"dtype\": \"category\",\n        \"num_unique_values\": 531,\n        \"samples\": [\n          \"Laurel\"\n        ],\n        \"semantic_type\": \"\",\n        \"description\": \"\"\n      }\n    },\n    {\n      \"column\": \"state\",\n      \"properties\": {\n        \"dtype\": \"category\",\n        \"num_unique_values\": 49,\n        \"samples\": [\n          \"Delaware\"\n        ],\n        \"semantic_type\": \"\",\n        \"description\": \"\"\n      }\n    },\n    {\n      \"column\": \"postal_code\",\n      \"properties\": {\n        \"dtype\": \"number\",\n        \"std\": 32063,\n        \"min\": 1040,\n        \"max\": 99301,\n        \"num_unique_values\": 631,\n        \"samples\": [\n          30062\n        ],\n        \"semantic_type\": \"\",\n        \"description\": \"\"\n      }\n    },\n    {\n      \"column\": \"region\",\n      \"properties\": {\n        \"dtype\": \"category\",\n        \"num_unique_values\": 4,\n        \"samples\": [\n          \"West\"\n        ],\n        \"semantic_type\": \"\",\n        \"description\": \"\"\n      }\n    },\n    {\n      \"column\": \"category\",\n      \"properties\": {\n        \"dtype\": \"category\",\n        \"num_unique_values\": 3,\n        \"samples\": [\n          \"Furniture\"\n        ],\n        \"semantic_type\": \"\",\n        \"description\": \"\"\n      }\n    },\n    {\n      \"column\": \"sub_category\",\n      \"properties\": {\n        \"dtype\": \"category\",\n        \"num_unique_values\": 17,\n        \"samples\": [\n          \"Bookcases\"\n        ],\n        \"semantic_type\": \"\",\n        \"description\": \"\"\n      }\n    },\n    {\n      \"column\": \"product_id\",\n      \"properties\": {\n        \"dtype\": \"category\",\n        \"num_unique_values\": 1862,\n        \"samples\": [\n          \"TEC-PH-10001580\"\n        ],\n        \"semantic_type\": \"\",\n        \"description\": \"\"\n      }\n    },\n    {\n      \"column\": \"cost_price\",\n      \"properties\": {\n        \"dtype\": \"number\",\n        \"std\": 537,\n        \"min\": 0,\n        \"max\": 18110,\n        \"num_unique_values\": 280,\n        \"samples\": [\n          790\n        ],\n        \"semantic_type\": \"\",\n        \"description\": \"\"\n      }\n    },\n    {\n      \"column\": \"list_price\",\n      \"properties\": {\n        \"dtype\": \"number\",\n        \"std\": 623,\n        \"min\": 0,\n        \"max\": 22640,\n        \"num_unique_values\": 289,\n        \"samples\": [\n          380\n        ],\n        \"semantic_type\": \"\",\n        \"description\": \"\"\n      }\n    },\n    {\n      \"column\": \"quantity\",\n      \"properties\": {\n        \"dtype\": \"number\",\n        \"std\": 2,\n        \"min\": 1,\n        \"max\": 14,\n        \"num_unique_values\": 14,\n        \"samples\": [\n          14\n        ],\n        \"semantic_type\": \"\",\n        \"description\": \"\"\n      }\n    },\n    {\n      \"column\": \"discount_percent\",\n      \"properties\": {\n        \"dtype\": \"number\",\n        \"std\": 1,\n        \"min\": 2,\n        \"max\": 5,\n        \"num_unique_values\": 4,\n        \"samples\": [\n          3\n        ],\n        \"semantic_type\": \"\",\n        \"description\": \"\"\n      }\n    },\n    {\n      \"column\": \"discount\",\n      \"properties\": {\n        \"dtype\": \"number\",\n        \"std\": 22.978003644952345,\n        \"min\": 0.0,\n        \"max\": 905.6,\n        \"num_unique_values\": 490,\n        \"samples\": [\n          38.5\n        ],\n        \"semantic_type\": \"\",\n        \"description\": \"\"\n      }\n    },\n    {\n      \"column\": \"sale_price\",\n      \"properties\": {\n        \"dtype\": \"number\",\n        \"std\": 601.3996037314255,\n        \"min\": 0.0,\n        \"max\": 21734.4,\n        \"num_unique_values\": 700,\n        \"samples\": [\n          835.2\n        ],\n        \"semantic_type\": \"\",\n        \"description\": \"\"\n      }\n    },\n    {\n      \"column\": \"profit\",\n      \"properties\": {\n        \"dtype\": \"number\",\n        \"std\": 455.28918554326714,\n        \"min\": -40.0,\n        \"max\": 21746.40000000001,\n        \"num_unique_values\": 2221,\n        \"samples\": [\n          46.800000000000026\n        ],\n        \"semantic_type\": \"\",\n        \"description\": \"\"\n      }\n    }\n  ]\n}"
            }
          },
          "metadata": {},
          "execution_count": 37
        }
      ]
    },
    {
      "cell_type": "markdown",
      "source": [
        "#**Step 3: SQL Server Integration**\n",
        "\n",
        "Once cleaned, the dataset is transferred to SQL Server for efficient querying"
      ],
      "metadata": {
        "id": "AZ14Aoo5Q_Q8"
      }
    },
    {
      "cell_type": "markdown",
      "source": [
        "1. Orders Table Contains 'order_id', 'order_date', 'ship_mode', 'Segment', 'Country', 'City', 'State', 'postal_code', 'Region','Discount','sale_price','Profit' and 'product_id.\n",
        "\n",
        "product_id as a foriegn key in order table and order_id as a primary key in order table.\n",
        "\n",
        "2. Products Table Contains 'product_id', 'Category', 'sub_category', 'cost_price', 'list_price', 'discount_percent'.\n",
        "\n",
        "product_id as a primary key in products table.\n",
        "\n",
        "A foreign key relationship linking the two tables."
      ],
      "metadata": {
        "id": "sfSKMDGWTRZX"
      }
    },
    {
      "cell_type": "code",
      "source": [
        "orders = df[['order_id', 'order_date', 'ship_mode', 'segment', 'country', 'city',\n",
        "                   'state', 'postal_code', 'region','discount','sale_price','profit','quantity']].drop_duplicates()\n",
        "products = df[['product_id', 'category', 'sub_category', 'cost_price', 'list_price',\n",
        "                     'discount_percent']].drop_duplicates()"
      ],
      "metadata": {
        "id": "fqJD0KOzQAw2"
      },
      "execution_count": 38,
      "outputs": []
    },
    {
      "cell_type": "code",
      "source": [
        "orders = pd.merge(orders, df[['order_id', 'product_id']], on='order_id')"
      ],
      "metadata": {
        "id": "n5DoNXzGRWhO"
      },
      "execution_count": 39,
      "outputs": []
    },
    {
      "cell_type": "code",
      "source": [
        "orders.info()"
      ],
      "metadata": {
        "colab": {
          "base_uri": "https://localhost:8080/"
        },
        "id": "7oWIGjwRSxx1",
        "outputId": "500d0d79-52f2-4fa2-faf8-e71d8fa4fdaa"
      },
      "execution_count": 40,
      "outputs": [
        {
          "output_type": "stream",
          "name": "stdout",
          "text": [
            "<class 'pandas.core.frame.DataFrame'>\n",
            "RangeIndex: 9994 entries, 0 to 9993\n",
            "Data columns (total 14 columns):\n",
            " #   Column       Non-Null Count  Dtype         \n",
            "---  ------       --------------  -----         \n",
            " 0   order_id     9994 non-null   int64         \n",
            " 1   order_date   9994 non-null   datetime64[ns]\n",
            " 2   ship_mode    9994 non-null   object        \n",
            " 3   segment      9994 non-null   object        \n",
            " 4   country      9994 non-null   object        \n",
            " 5   city         9994 non-null   object        \n",
            " 6   state        9994 non-null   object        \n",
            " 7   postal_code  9994 non-null   int64         \n",
            " 8   region       9994 non-null   object        \n",
            " 9   discount     9994 non-null   float64       \n",
            " 10  sale_price   9994 non-null   float64       \n",
            " 11  profit       9994 non-null   float64       \n",
            " 12  quantity     9994 non-null   int64         \n",
            " 13  product_id   9994 non-null   object        \n",
            "dtypes: datetime64[ns](1), float64(3), int64(3), object(7)\n",
            "memory usage: 1.1+ MB\n"
          ]
        }
      ]
    },
    {
      "cell_type": "code",
      "source": [
        "products.info()"
      ],
      "metadata": {
        "colab": {
          "base_uri": "https://localhost:8080/"
        },
        "id": "vOz-O8D8UTr2",
        "outputId": "5d544fb4-97f1-4c21-9b78-902f2997000d"
      },
      "execution_count": 41,
      "outputs": [
        {
          "output_type": "stream",
          "name": "stdout",
          "text": [
            "<class 'pandas.core.frame.DataFrame'>\n",
            "Index: 9180 entries, 0 to 9993\n",
            "Data columns (total 6 columns):\n",
            " #   Column            Non-Null Count  Dtype \n",
            "---  ------            --------------  ----- \n",
            " 0   product_id        9180 non-null   object\n",
            " 1   category          9180 non-null   object\n",
            " 2   sub_category      9180 non-null   object\n",
            " 3   cost_price        9180 non-null   int64 \n",
            " 4   list_price        9180 non-null   int64 \n",
            " 5   discount_percent  9180 non-null   int64 \n",
            "dtypes: int64(3), object(3)\n",
            "memory usage: 502.0+ KB\n"
          ]
        }
      ]
    },
    {
      "cell_type": "code",
      "source": [
        "!pip install psycopg2-binary sqlalchemy pandas"
      ],
      "metadata": {
        "colab": {
          "base_uri": "https://localhost:8080/"
        },
        "id": "rZrWA_rLYF4R",
        "outputId": "3a877f80-9ee2-4ce6-f23c-a071f159aadc"
      },
      "execution_count": 42,
      "outputs": [
        {
          "output_type": "stream",
          "name": "stdout",
          "text": [
            "Collecting psycopg2-binary\n",
            "  Downloading psycopg2_binary-2.9.10-cp311-cp311-manylinux_2_17_x86_64.manylinux2014_x86_64.whl.metadata (4.9 kB)\n",
            "Requirement already satisfied: sqlalchemy in /usr/local/lib/python3.11/dist-packages (2.0.40)\n",
            "Requirement already satisfied: pandas in /usr/local/lib/python3.11/dist-packages (2.2.2)\n",
            "Requirement already satisfied: greenlet>=1 in /usr/local/lib/python3.11/dist-packages (from sqlalchemy) (3.1.1)\n",
            "Requirement already satisfied: typing-extensions>=4.6.0 in /usr/local/lib/python3.11/dist-packages (from sqlalchemy) (4.13.0)\n",
            "Requirement already satisfied: numpy>=1.23.2 in /usr/local/lib/python3.11/dist-packages (from pandas) (2.0.2)\n",
            "Requirement already satisfied: python-dateutil>=2.8.2 in /usr/local/lib/python3.11/dist-packages (from pandas) (2.8.2)\n",
            "Requirement already satisfied: pytz>=2020.1 in /usr/local/lib/python3.11/dist-packages (from pandas) (2025.2)\n",
            "Requirement already satisfied: tzdata>=2022.7 in /usr/local/lib/python3.11/dist-packages (from pandas) (2025.2)\n",
            "Requirement already satisfied: six>=1.5 in /usr/local/lib/python3.11/dist-packages (from python-dateutil>=2.8.2->pandas) (1.17.0)\n",
            "Downloading psycopg2_binary-2.9.10-cp311-cp311-manylinux_2_17_x86_64.manylinux2014_x86_64.whl (3.0 MB)\n",
            "\u001b[2K   \u001b[90m━━━━━━━━━━━━━━━━━━━━━━━━━━━━━━━━━━━━━━━━\u001b[0m \u001b[32m3.0/3.0 MB\u001b[0m \u001b[31m24.2 MB/s\u001b[0m eta \u001b[36m0:00:00\u001b[0m\n",
            "\u001b[?25hInstalling collected packages: psycopg2-binary\n",
            "Successfully installed psycopg2-binary-2.9.10\n"
          ]
        }
      ]
    },
    {
      "cell_type": "code",
      "source": [
        "from sqlalchemy import create_engine"
      ],
      "metadata": {
        "id": "x3kDrCn1YRRB"
      },
      "execution_count": 43,
      "outputs": []
    },
    {
      "cell_type": "code",
      "source": [
        "host = 'retaildb.cl0s64ec6088.ap-south-1.rds.amazonaws.com'\n",
        "port = '5432'\n",
        "database = 'postgres'\n",
        "user = 'postgres'\n",
        "password = 'dhoni00728'"
      ],
      "metadata": {
        "id": "F_lRGj5SZi70"
      },
      "execution_count": 44,
      "outputs": []
    },
    {
      "cell_type": "code",
      "source": [
        "connection_string = f'postgresql+psycopg2://{user}:{password}@{host}:{port}/{database}'\n",
        "engine = create_engine(connection_string)"
      ],
      "metadata": {
        "id": "wnWugeDlZ6WJ"
      },
      "execution_count": 45,
      "outputs": []
    },
    {
      "cell_type": "code",
      "source": [
        "tables = {'orders': orders, 'products': products}"
      ],
      "metadata": {
        "id": "vmifZ4tkZ_eT"
      },
      "execution_count": 46,
      "outputs": []
    },
    {
      "cell_type": "code",
      "source": [
        "for table_name, table_df in tables.items():\n",
        "    table_df.to_sql(table_name, engine, if_exists='replace', index=False)\n",
        "\n",
        "print(\"Tables pushed to PostgreSQL successfully.\")"
      ],
      "metadata": {
        "colab": {
          "base_uri": "https://localhost:8080/"
        },
        "id": "9TMm2_qIaQ5_",
        "outputId": "6c5539e3-388a-4fbb-e8b5-3594337adbe7"
      },
      "execution_count": 47,
      "outputs": [
        {
          "output_type": "stream",
          "name": "stdout",
          "text": [
            "Tables pushed to PostgreSQL successfully.\n"
          ]
        }
      ]
    },
    {
      "cell_type": "code",
      "source": [
        "with engine.connect() as connection:\n",
        "    print(\"Connection successful!\")"
      ],
      "metadata": {
        "colab": {
          "base_uri": "https://localhost:8080/"
        },
        "id": "AHtLeEW3arqR",
        "outputId": "acdc6e30-781a-4566-ca62-753a0cd8eaef"
      },
      "execution_count": 48,
      "outputs": [
        {
          "output_type": "stream",
          "name": "stdout",
          "text": [
            "Connection successful!\n"
          ]
        }
      ]
    },
    {
      "cell_type": "code",
      "source": [
        "query = \"SELECT * FROM orders;\"\n",
        "df1 = pd.read_sql(query, con=engine)\n",
        "print(df1.head())"
      ],
      "metadata": {
        "colab": {
          "base_uri": "https://localhost:8080/"
        },
        "id": "arM0VPiMbv0Y",
        "outputId": "c637230f-1f8d-473b-a109-fa84c33561ba"
      },
      "execution_count": 49,
      "outputs": [
        {
          "output_type": "stream",
          "name": "stdout",
          "text": [
            "   order_id order_date       ship_mode    segment        country  \\\n",
            "0         1 2023-03-01    Second Class   Consumer  United States   \n",
            "1         2 2023-08-15    Second Class   Consumer  United States   \n",
            "2         3 2023-01-10    Second Class  Corporate  United States   \n",
            "3         4 2022-06-18  Standard Class   Consumer  United States   \n",
            "4         5 2022-07-13  Standard Class   Consumer  United States   \n",
            "\n",
            "              city       state  postal_code region  discount  sale_price  \\\n",
            "0        Henderson    Kentucky        42420  South       5.2       254.8   \n",
            "1        Henderson    Kentucky        42420  South      21.9       708.1   \n",
            "2      Los Angeles  California        90036   West       0.5         9.5   \n",
            "3  Fort Lauderdale     Florida        33311  South      19.2       940.8   \n",
            "4  Fort Lauderdale     Florida        33311  South       1.0        19.0   \n",
            "\n",
            "   profit  quantity       product_id  \n",
            "0    29.6         2  FUR-BO-10001798  \n",
            "1   324.3         3  FUR-CH-10000454  \n",
            "2    -1.0         2  OFF-LA-10000240  \n",
            "3   804.0         5  FUR-TA-10000577  \n",
            "4    -2.0         2  OFF-ST-10000760  \n"
          ]
        }
      ]
    },
    {
      "cell_type": "code",
      "source": [
        "query = \"SELECT * FROM products;\"\n",
        "df1 = pd.read_sql(query, con=engine)\n",
        "print(df1.head())"
      ],
      "metadata": {
        "colab": {
          "base_uri": "https://localhost:8080/"
        },
        "id": "SuRt7VZfcC2p",
        "outputId": "a7310e29-4156-46f7-9119-c8453f918537"
      },
      "execution_count": 50,
      "outputs": [
        {
          "output_type": "stream",
          "name": "stdout",
          "text": [
            "        product_id         category sub_category  cost_price  list_price  \\\n",
            "0  FUR-BO-10001798        Furniture    Bookcases         240         260   \n",
            "1  FUR-CH-10000454        Furniture       Chairs         600         730   \n",
            "2  OFF-LA-10000240  Office Supplies       Labels          10          10   \n",
            "3  FUR-TA-10000577        Furniture       Tables         780         960   \n",
            "4  OFF-ST-10000760  Office Supplies      Storage          20          20   \n",
            "\n",
            "   discount_percent  \n",
            "0                 2  \n",
            "1                 3  \n",
            "2                 5  \n",
            "3                 2  \n",
            "4                 5  \n"
          ]
        }
      ]
    },
    {
      "cell_type": "markdown",
      "source": [
        "#**Business Insights through SQL Queries:**\n",
        "\n",
        "●Top-Selling Products: Identify the products that generate the highest revenue based on sale prices."
      ],
      "metadata": {
        "id": "ACghbop_cxSs"
      }
    },
    {
      "cell_type": "code",
      "source": [
        "query = \"SELECT p.product_id, p.category, p.sub_category, Round(SUM(o.sale_price * o.quantity)) AS total_revenue  FROM orders o INNER JOIN products p ON o.product_id = p.product_id GROUP BY p.product_id, p.category, p.sub_category ORDER BY total_revenue DESC LIMIT 10;\"\n"
      ],
      "metadata": {
        "id": "inbU1eeJcN3J"
      },
      "execution_count": 51,
      "outputs": []
    },
    {
      "cell_type": "code",
      "source": [
        "df1 = pd.read_sql(query, con=engine)\n",
        "print(df1)"
      ],
      "metadata": {
        "colab": {
          "base_uri": "https://localhost:8080/"
        },
        "id": "TPDWXdcmfACP",
        "outputId": "67bab5c5-b63d-4a86-f2b1-ea3efa1e63bd"
      },
      "execution_count": 52,
      "outputs": [
        {
          "output_type": "stream",
          "name": "stdout",
          "text": [
            "        product_id         category sub_category  total_revenue\n",
            "0  OFF-BI-10000545  Office Supplies      Binders      1473999.0\n",
            "1  TEC-AC-10003832       Technology  Accessories      1313960.0\n",
            "2  TEC-CO-10004722       Technology      Copiers      1225280.0\n",
            "3  OFF-BI-10003527  Office Supplies      Binders       970829.0\n",
            "4  FUR-CH-10002024        Furniture       Chairs       960726.0\n",
            "5  FUR-TA-10003473        Furniture       Tables       912258.0\n",
            "6  TEC-AC-10002049       Technology  Accessories       863364.0\n",
            "7  TEC-CO-10001449       Technology      Copiers       859104.0\n",
            "8  FUR-BO-10002213        Furniture    Bookcases       840148.0\n",
            "9  OFF-BI-10001359  Office Supplies      Binders       784910.0\n"
          ]
        }
      ]
    },
    {
      "cell_type": "markdown",
      "source": [
        "●Monthly Sales Analysis: Compare year-over-year sales to identify growth or decline in certain months."
      ],
      "metadata": {
        "id": "MKyh5fVErXRj"
      }
    },
    {
      "cell_type": "code",
      "source": [
        "query = \"SELECT DATE_PART('year', CAST(o.order_date AS DATE)) AS year, DATE_PART('month', CAST(o.order_date AS DATE)) AS month, Round(SUM(o.sale_price * o.quantity)) AS monthly_revenue FROM orders o GROUP BY DATE_PART('year', CAST(o.order_date AS DATE)), DATE_PART('month', CAST(o.order_date AS DATE)) ORDER BY year, month;\""
      ],
      "metadata": {
        "id": "q-xOuYnkkMO1"
      },
      "execution_count": 53,
      "outputs": []
    },
    {
      "cell_type": "code",
      "source": [
        "df1 = pd.read_sql(query, con=engine)\n",
        "print(df1)"
      ],
      "metadata": {
        "id": "5bLPZBaSsQc1",
        "outputId": "663e1ade-f18d-4bd4-c735-98609ad72927",
        "colab": {
          "base_uri": "https://localhost:8080/"
        }
      },
      "execution_count": 54,
      "outputs": [
        {
          "output_type": "stream",
          "name": "stdout",
          "text": [
            "      year  month  monthly_revenue\n",
            "0   2022.0    1.0         437431.0\n",
            "1   2022.0    2.0         444011.0\n",
            "2   2022.0    3.0         394105.0\n",
            "3   2022.0    4.0         476401.0\n",
            "4   2022.0    5.0         413626.0\n",
            "5   2022.0    6.0         465300.0\n",
            "6   2022.0    7.0         375278.0\n",
            "7   2022.0    8.0         534562.0\n",
            "8   2022.0    9.0         433887.0\n",
            "9   2022.0   10.0         601708.0\n",
            "10  2022.0   11.0         451810.0\n",
            "11  2022.0   12.0         447422.0\n",
            "12  2023.0    1.0         434765.0\n",
            "13  2023.0    2.0         731639.0\n",
            "14  2023.0    3.0         393052.0\n",
            "15  2023.0    4.0         543231.0\n",
            "16  2023.0    5.0         410708.0\n",
            "17  2023.0    6.0         328939.0\n",
            "18  2023.0    7.0         422534.0\n",
            "19  2023.0    8.0         465010.0\n",
            "20  2023.0    9.0         420621.0\n",
            "21  2023.0   10.0         626498.0\n",
            "22  2023.0   11.0         334941.0\n",
            "23  2023.0   12.0         491849.0\n"
          ]
        }
      ]
    },
    {
      "cell_type": "markdown",
      "source": [
        "Product Performance: Use functions like GROUP BY, HAVING, ROW_NUMBER(), and CASE WHEN to categorize and rank products by their revenue, profit margin, etc."
      ],
      "metadata": {
        "id": "8YgQaeOevsQ6"
      }
    },
    {
      "cell_type": "code",
      "source": [
        "query = \"WITH ProductPerformance AS ( SELECT p.product_id, p.category, p.sub_category, ROUND(SUM(o.sale_price * o.quantity)) AS total_revenue, ROUND(AVG(CASE WHEN p.cost_price = 0 THEN 0 ELSE (o.sale_price - p.cost_price) / p.cost_price END)) AS profit_margin FROM orders o INNER JOIN products p ON o.product_id = p.product_id GROUP BY p.product_id, p.category, p.sub_category)SELECT product_id, category, sub_category, total_revenue, profit_margin, ROW_NUMBER() OVER (ORDER BY total_revenue DESC) AS revenue_rank FROM ProductPerformance;\"\n"
      ],
      "metadata": {
        "id": "GC62xJo8sTHv"
      },
      "execution_count": 55,
      "outputs": []
    },
    {
      "cell_type": "code",
      "source": [
        "df1 = pd.read_sql(query, con=engine)\n",
        "print(df1)"
      ],
      "metadata": {
        "id": "T_0uU2aMxGTB",
        "outputId": "b55b3c9b-46be-41a2-9ce7-440306d846b7",
        "colab": {
          "base_uri": "https://localhost:8080/"
        }
      },
      "execution_count": 56,
      "outputs": [
        {
          "output_type": "stream",
          "name": "stdout",
          "text": [
            "           product_id         category sub_category  total_revenue  \\\n",
            "0     OFF-BI-10000545  Office Supplies      Binders      1473999.0   \n",
            "1     TEC-AC-10003832       Technology  Accessories      1313960.0   \n",
            "2     TEC-CO-10004722       Technology      Copiers      1225280.0   \n",
            "3     OFF-BI-10003527  Office Supplies      Binders       970829.0   \n",
            "4     FUR-CH-10002024        Furniture       Chairs       960726.0   \n",
            "...               ...              ...          ...            ...   \n",
            "1857  OFF-AP-10002906  Office Supplies   Appliances            0.0   \n",
            "1858  TEC-AC-10003433       Technology  Accessories            0.0   \n",
            "1859  OFF-FA-10000490  Office Supplies    Fasteners            0.0   \n",
            "1860  OFF-AP-10002203  Office Supplies   Appliances            0.0   \n",
            "1861  OFF-FA-10001754  Office Supplies    Fasteners            0.0   \n",
            "\n",
            "      profit_margin  revenue_rank  \n",
            "0               1.0             1  \n",
            "1               3.0             2  \n",
            "2               0.0             3  \n",
            "3               1.0             4  \n",
            "4               0.0             5  \n",
            "...             ...           ...  \n",
            "1857            0.0          1858  \n",
            "1858            0.0          1859  \n",
            "1859            0.0          1860  \n",
            "1860            0.0          1861  \n",
            "1861            0.0          1862  \n",
            "\n",
            "[1862 rows x 6 columns]\n"
          ]
        }
      ]
    },
    {
      "cell_type": "markdown",
      "source": [
        "●Regional Sales Analysis: Query sales data by region to identify which areas are performing best."
      ],
      "metadata": {
        "id": "cTbAI5bC1cz-"
      }
    },
    {
      "cell_type": "code",
      "source": [
        "query = \"SELECT o.region, Round(SUM(o.sale_price * o.quantity)) AS regional_revenue, COUNT(DISTINCT o.order_id) AS total_orders FROM orders o GROUP BY o.region ORDER BY regional_revenue DESC;\""
      ],
      "metadata": {
        "id": "_lvxV8K9xJKP"
      },
      "execution_count": 57,
      "outputs": []
    },
    {
      "cell_type": "code",
      "source": [
        "df1 = pd.read_sql(query, con=engine)\n",
        "print(df1)"
      ],
      "metadata": {
        "id": "rMMBlU7_1jNc",
        "outputId": "9a2e1bc4-845a-41a0-a950-ae5eca260f22",
        "colab": {
          "base_uri": "https://localhost:8080/"
        }
      },
      "execution_count": 58,
      "outputs": [
        {
          "output_type": "stream",
          "name": "stdout",
          "text": [
            "    region  regional_revenue  total_orders\n",
            "0     West         3467410.0          3203\n",
            "1     East         3257984.0          2848\n",
            "2  Central         2387881.0          2323\n",
            "3    South         1966054.0          1620\n"
          ]
        }
      ]
    },
    {
      "cell_type": "markdown",
      "source": [
        "●Discount Analysis: Identify products with discounts greater than 20% and calculate the impact of discounts on sales."
      ],
      "metadata": {
        "id": "aLfx7sXh17CM"
      }
    },
    {
      "cell_type": "code",
      "source": [
        "query = \"SELECT p.product_id,p.category, p.sub_category,p.discount_percent, ROUND(SUM(o.sale_price * o.quantity)) AS total_revenue_after_discount, ROUND(SUM(p.list_price * o.quantity)) AS total_revenue_before_discount, ROUND((SUM(p.list_price * o.quantity) - SUM(o.sale_price * o.quantity))) AS discount_impact FROM orders o INNER JOIN products p ON o.product_id = p.product_id WHERE p.discount_percent > 20 GROUP BY p.product_id, p.category, p.sub_category, p.discount_percent ORDER BY discount_impact DESC;\""
      ],
      "metadata": {
        "id": "hXVhBkuj1mPX"
      },
      "execution_count": 59,
      "outputs": []
    },
    {
      "cell_type": "code",
      "source": [
        "df1 = pd.read_sql(query, con=engine)\n",
        "print(df1)"
      ],
      "metadata": {
        "id": "2W2kd4pq3YBW",
        "outputId": "a8c4c6f5-37fe-40ba-d52e-abf6ec9f6fd4",
        "colab": {
          "base_uri": "https://localhost:8080/"
        }
      },
      "execution_count": 60,
      "outputs": [
        {
          "output_type": "stream",
          "name": "stdout",
          "text": [
            "Empty DataFrame\n",
            "Columns: [product_id, category, sub_category, discount_percent, total_revenue_after_discount, total_revenue_before_discount, discount_impact]\n",
            "Index: []\n"
          ]
        }
      ]
    },
    {
      "cell_type": "code",
      "source": [
        "import pandas as pd\n",
        "import matplotlib.pyplot as plt\n",
        "import seaborn as sns\n"
      ],
      "metadata": {
        "id": "aq-N0hmO3aHX"
      },
      "execution_count": 61,
      "outputs": []
    },
    {
      "cell_type": "code",
      "source": [
        "discount_analysis = df.groupby('discount_percent')['discount'].agg(['mean', 'median', 'count']).reset_index()"
      ],
      "metadata": {
        "id": "4vNfRgJHbqhU"
      },
      "execution_count": 62,
      "outputs": []
    },
    {
      "cell_type": "markdown",
      "source": [
        "First Plot - Frequency of Discount Percentages\n",
        "\n",
        "This bar plot visualizes the frequency (or count) of various discount percentages.\n",
        "\n",
        "The discount_analysis dataset should contain columns like discount_percent and count, representing each discount percentage and how often it occurs.\n",
        "\n",
        "The plot helps identify which discount percentages are most or least frequently applied."
      ],
      "metadata": {
        "id": "0HNUK-CwckwK"
      }
    },
    {
      "cell_type": "code",
      "source": [
        "plt.figure(figsize=(10, 6))\n",
        "sns.barplot(data=discount_analysis, x='discount_percent', y='count', palette='viridis')\n",
        "plt.title('Frequency of Discount Percentages')\n",
        "plt.xlabel('Discount Percent')\n",
        "plt.ylabel('Count')\n",
        "plt.show()"
      ],
      "metadata": {
        "colab": {
          "base_uri": "https://localhost:8080/",
          "height": 671
        },
        "id": "vwcqXOwvb40F",
        "outputId": "838cae07-a3c1-43b6-d7a2-ce76782593a0"
      },
      "execution_count": 63,
      "outputs": [
        {
          "output_type": "stream",
          "name": "stderr",
          "text": [
            "<ipython-input-63-35c228e506ae>:2: FutureWarning: \n",
            "\n",
            "Passing `palette` without assigning `hue` is deprecated and will be removed in v0.14.0. Assign the `x` variable to `hue` and set `legend=False` for the same effect.\n",
            "\n",
            "  sns.barplot(data=discount_analysis, x='discount_percent', y='count', palette='viridis')\n"
          ]
        },
        {
          "output_type": "display_data",
          "data": {
            "text/plain": [
              "<Figure size 1000x600 with 1 Axes>"
            ],
            "image/png": "[encoded data removed]"
          },
          "metadata": {}
        }
      ]
    },
    {
      "cell_type": "markdown",
      "source": [
        "Second Plot - Distribution of Discounts by Discount Percent\n",
        "\n",
        "This box plot examines the distribution of actual discount amounts (discount) across different discount percentage categories (discount_percent).\n",
        "\n",
        "The dataset df must include both discount_percent and discount columns.\n",
        "\n",
        "It shows the spread (range), median, and outliers of discounts for each percentage category, helping analyze the variation in discounts provided under each percentage."
      ],
      "metadata": {
        "id": "l1HqOkyncsQu"
      }
    },
    {
      "cell_type": "code",
      "source": [
        "plt.figure(figsize=(10, 6))\n",
        "sns.boxplot(data=df, x='discount_percent', y='discount', palette='coolwarm')\n",
        "plt.title('Distribution of Discounts by Discount Percent')\n",
        "plt.xlabel('Discount Percent')\n",
        "plt.ylabel('Discount')\n",
        "plt.show()"
      ],
      "metadata": {
        "colab": {
          "base_uri": "https://localhost:8080/",
          "height": 671
        },
        "id": "HPK8pYVqb76q",
        "outputId": "e208ff48-644a-485d-ee04-c41b70d44230"
      },
      "execution_count": 64,
      "outputs": [
        {
          "output_type": "stream",
          "name": "stderr",
          "text": [
            "<ipython-input-64-90a64bf1787f>:2: FutureWarning: \n",
            "\n",
            "Passing `palette` without assigning `hue` is deprecated and will be removed in v0.14.0. Assign the `x` variable to `hue` and set `legend=False` for the same effect.\n",
            "\n",
            "  sns.boxplot(data=df, x='discount_percent', y='discount', palette='coolwarm')\n"
          ]
        },
        {
          "output_type": "display_data",
          "data": {
            "text/plain": [
              "<Figure size 1000x600 with 1 Axes>"
            ],
            "image/png": "[encoded data removed]"
          },
          "metadata": {}
        }
      ]
    },
    {
      "cell_type": "markdown",
      "source": [
        "#**10 SQL query Question From Guvi**"
      ],
      "metadata": {
        "id": "jMIjtbpfdMpR"
      }
    },
    {
      "cell_type": "code",
      "source": [
        "# Find top 10 highest revenue generating products\n",
        "\n",
        "query = \"SELECT p.product_id, p.category, p.sub_category, ROUND(SUM(COALESCE(o.sale_price * o.quantity, 0))) AS total_revenue FROM products p LEFT JOIN orders o ON p.product_id = o.product_id GROUP BY p.product_id, p.category, p.sub_category ORDER BY total_revenue DESC LIMIT 10;\"\n",
        "df1 = pd.read_sql(query, con=engine)\n",
        "print(df1)"
      ],
      "metadata": {
        "colab": {
          "base_uri": "https://localhost:8080/"
        },
        "id": "vzvLNPPccDmv",
        "outputId": "d3dc3ea9-b26d-4401-b623-166159d5dfc7"
      },
      "execution_count": 65,
      "outputs": [
        {
          "output_type": "stream",
          "name": "stdout",
          "text": [
            "        product_id         category sub_category  total_revenue\n",
            "0  OFF-BI-10000545  Office Supplies      Binders      1473999.0\n",
            "1  TEC-AC-10003832       Technology  Accessories      1313960.0\n",
            "2  TEC-CO-10004722       Technology      Copiers      1225280.0\n",
            "3  OFF-BI-10003527  Office Supplies      Binders       970829.0\n",
            "4  FUR-CH-10002024        Furniture       Chairs       960726.0\n",
            "5  FUR-TA-10003473        Furniture       Tables       912258.0\n",
            "6  TEC-AC-10002049       Technology  Accessories       863364.0\n",
            "7  TEC-CO-10001449       Technology      Copiers       859104.0\n",
            "8  FUR-BO-10002213        Furniture    Bookcases       840148.0\n",
            "9  OFF-BI-10001359  Office Supplies      Binders       784910.0\n"
          ]
        }
      ]
    },
    {
      "cell_type": "code",
      "source": [
        "# Find the top 5 cities with the highest profit margins\n",
        "query = \"SELECT o.city, CASE WHEN SUM(o.sale_price * o.quantity) = 0 THEN 0 ELSE SUM(o.profit) / SUM(o.sale_price * o.quantity) * 100 END AS profit_margin FROM orders o LEFT JOIN products p ON o.product_id = p.product_id GROUP BY o.city ORDER BY profit_margin DESC LIMIT 5;\"\n",
        "df1 = pd.read_sql(query, con=engine)\n",
        "print(df1)"
      ],
      "metadata": {
        "colab": {
          "base_uri": "https://localhost:8080/"
        },
        "id": "MDsdMii6fFXQ",
        "outputId": "79005d8c-5652-45ed-d64d-73f309725f27"
      },
      "execution_count": 66,
      "outputs": [
        {
          "output_type": "stream",
          "name": "stdout",
          "text": [
            "        city  profit_margin\n",
            "0    Danbury      29.824561\n",
            "1  Goldsboro      29.824561\n",
            "2    Bozeman      27.835052\n",
            "3  Owensboro      25.746570\n",
            "4     Rogers      23.469388\n"
          ]
        }
      ]
    },
    {
      "cell_type": "code",
      "source": [
        "# Calculate the total discount given for each category\n",
        "query = \"SELECT p.category,SUM(o.discount) AS total_discount  FROM orders o LEFT JOIN products p ON o.product_id = p.product_id GROUP BY p.category;\"\n",
        "df1 = pd.read_sql(query, con=engine)\n",
        "print(df1)"
      ],
      "metadata": {
        "colab": {
          "base_uri": "https://localhost:8080/"
        },
        "id": "OTiIashLf6_1",
        "outputId": "3195cef9-55e0-4305-a50c-29556e644816"
      },
      "execution_count": 67,
      "outputs": [
        {
          "output_type": "stream",
          "name": "stdout",
          "text": [
            "          category  total_discount\n",
            "0        Furniture        181387.1\n",
            "1  Office Supplies        173149.6\n",
            "2       Technology        155703.9\n"
          ]
        }
      ]
    },
    {
      "cell_type": "code",
      "source": [
        "# Find the average sale price per product category\n",
        "query = \"SELECT p.category,ROUND(AVG(o.sale_price)) AS average_sale_price  FROM orders o INNER JOIN products p ON o.product_id = p.product_id GROUP BY p.category;\"\n",
        "df1 = pd.read_sql(query, con=engine)\n",
        "print(df1)"
      ],
      "metadata": {
        "colab": {
          "base_uri": "https://localhost:8080/"
        },
        "id": "F30j2aEzh7Pu",
        "outputId": "51c195d3-e9a8-4e3b-f7bd-7d9a341a12ab"
      },
      "execution_count": 68,
      "outputs": [
        {
          "output_type": "stream",
          "name": "stdout",
          "text": [
            "          category  average_sale_price\n",
            "0        Furniture               360.0\n",
            "1  Office Supplies               134.0\n",
            "2       Technology               394.0\n"
          ]
        }
      ]
    },
    {
      "cell_type": "code",
      "source": [
        "# Find the region with the highest average sale price\n",
        "query = \"SELECT region ,ROUND(AVG(sale_price)) AS average_sale_price  FROM orders GROUP BY region ORDER BY average_sale_price DESC LIMIT 1;\"\n",
        "df1 = pd.read_sql(query, con=engine)\n",
        "print(df1)"
      ],
      "metadata": {
        "colab": {
          "base_uri": "https://localhost:8080/"
        },
        "id": "R5_AFfvhiS6c",
        "outputId": "f404f9aa-e895-4d1a-b211-30152e2a887c"
      },
      "execution_count": 69,
      "outputs": [
        {
          "output_type": "stream",
          "name": "stdout",
          "text": [
            "  region  average_sale_price\n",
            "0  South               233.0\n"
          ]
        }
      ]
    },
    {
      "cell_type": "code",
      "source": [
        "# Find the total profit per category\n",
        "query = \"SELECT p.category,ROUND(SUM(o.profit)) AS total_profit FROM orders o JOIN products p ON o.product_id = p.product_id GROUP BY p.category;\"\n",
        "df1 = pd.read_sql(query, con=engine)\n",
        "print(df1)\n"
      ],
      "metadata": {
        "colab": {
          "base_uri": "https://localhost:8080/"
        },
        "id": "uDcyNOMfjEsn",
        "outputId": "bfbe4a40-c993-4d6d-bd56-ba2634c97719"
      },
      "execution_count": 70,
      "outputs": [
        {
          "output_type": "stream",
          "name": "stdout",
          "text": [
            "          category  total_profit\n",
            "0        Furniture     2389995.0\n",
            "1  Office Supplies     2241329.0\n",
            "2       Technology     2004802.0\n"
          ]
        }
      ]
    },
    {
      "cell_type": "code",
      "source": [
        "# Identify the top 3 segments with the highest quantity of orders\n",
        "query = \"SELECT segment,ROUND(SUM(quantity)) AS total_quantity FROM orders GROUP BY segment ORDER BY total_quantity DESC LIMIT 3;\"\n",
        "df1 = pd.read_sql(query, con=engine)\n",
        "print(df1)"
      ],
      "metadata": {
        "colab": {
          "base_uri": "https://localhost:8080/"
        },
        "id": "AmHZZGdQjiTb",
        "outputId": "694679e9-39f7-4765-811b-a94ecd52ee4f"
      },
      "execution_count": 71,
      "outputs": [
        {
          "output_type": "stream",
          "name": "stdout",
          "text": [
            "       segment  total_quantity\n",
            "0     Consumer         19521.0\n",
            "1    Corporate         11608.0\n",
            "2  Home Office          6744.0\n"
          ]
        }
      ]
    },
    {
      "cell_type": "code",
      "source": [
        "# Determine the average discount percentage given per region\n",
        "query = \"SELECT o.region,(AVG(p.discount_percent)) AS average_discount_percentage FROM orders o JOIN products p ON o.product_id = p.product_id GROUP BY o.region;\"\n",
        "df1 = pd.read_sql(query, con=engine)\n",
        "print(df1)"
      ],
      "metadata": {
        "colab": {
          "base_uri": "https://localhost:8080/"
        },
        "id": "B6K_f0nIkGrW",
        "outputId": "ca555a25-8f0d-43e8-b24e-f36a57610a54"
      },
      "execution_count": 72,
      "outputs": [
        {
          "output_type": "stream",
          "name": "stdout",
          "text": [
            "    region  average_discount_percentage\n",
            "0    South                     3.473824\n",
            "1     West                     3.487469\n",
            "2     East                     3.484200\n",
            "3  Central                     3.488194\n"
          ]
        }
      ]
    },
    {
      "cell_type": "code",
      "source": [
        "# Find the product category with the highest total profit\n",
        "\n",
        "query = \"SELECT p.category, SUM(o.profit) AS total_profit FROM orders o JOIN products p ON o.product_id = p.product_id GROUP BY p.category ORDER BY total_profit DESC LIMIT 1;\"\n",
        "df1 = pd.read_sql(query, con=engine)\n",
        "print(df1)"
      ],
      "metadata": {
        "colab": {
          "base_uri": "https://localhost:8080/"
        },
        "id": "kVothyjlksOt",
        "outputId": "54ab37a0-84fb-4d1d-cee3-daf491800b58"
      },
      "execution_count": 73,
      "outputs": [
        {
          "output_type": "stream",
          "name": "stdout",
          "text": [
            "    category  total_profit\n",
            "0  Furniture     2389995.0\n"
          ]
        }
      ]
    },
    {
      "cell_type": "code",
      "source": [
        "# Calculate the total revenue generated per year\n",
        "query = \"SELECT DATE_PART('year', CAST(order_date AS DATE)) AS year, ROUND(SUM(sale_price * quantity)) AS total_revenue FROM orders GROUP BY DATE_PART('year', CAST(order_date AS DATE)) ORDER BY year;\"\n",
        "df1 = pd.read_sql(query, con=engine)\n",
        "print(df1)"
      ],
      "metadata": {
        "colab": {
          "base_uri": "https://localhost:8080/"
        },
        "id": "jV2e5GErlLGJ",
        "outputId": "c8f6c87d-484e-4783-8b04-211f89c73286"
      },
      "execution_count": 74,
      "outputs": [
        {
          "output_type": "stream",
          "name": "stdout",
          "text": [
            "     year  total_revenue\n",
            "0  2022.0      5475541.0\n",
            "1  2023.0      5603787.0\n"
          ]
        }
      ]
    },
    {
      "cell_type": "markdown",
      "source": [
        "#**10 SQL Query Question From Myside**"
      ],
      "metadata": {
        "id": "py9sYq7bnN-4"
      }
    },
    {
      "cell_type": "code",
      "source": [
        "#Identify the month with the highest sales revenue\n",
        "query = \"SELECT DATE_PART('month', CAST(order_date AS DATE)) AS month, SUM(sale_price * quantity) AS total_revenue FROM orders GROUP BY DATE_PART('month', CAST(order_date AS DATE)) ORDER BY total_revenue DESC LIMIT 1;\"\n",
        "df1 = pd.read_sql(query, con=engine)\n",
        "print(df1)\n"
      ],
      "metadata": {
        "colab": {
          "base_uri": "https://localhost:8080/"
        },
        "id": "-gLVgPesllBi",
        "outputId": "3869c1ee-5966-4005-90aa-6b818182ba95"
      },
      "execution_count": 75,
      "outputs": [
        {
          "output_type": "stream",
          "name": "stdout",
          "text": [
            "   month  total_revenue\n",
            "0   10.0      1228206.1\n"
          ]
        }
      ]
    },
    {
      "cell_type": "code",
      "source": [
        "#Find the average profit margin for each product category\n",
        "query = \"SELECT p.category, ROUND(AVG(CASE WHEN (o.sale_price * o.quantity) = 0 THEN 0 ELSE (o.profit / (o.sale_price * o.quantity)) * 100 END)) AS average_profit_margin FROM orders o INNER JOIN products p ON o.product_id = p.product_id GROUP BY p.category;\"\n",
        "df1 = pd.read_sql(query, con=engine)\n",
        "print(df1)"
      ],
      "metadata": {
        "colab": {
          "base_uri": "https://localhost:8080/"
        },
        "id": "XSuUuVgaoEFz",
        "outputId": "f0d86761-88c3-4568-8aa3-24e00b0568e4"
      },
      "execution_count": 76,
      "outputs": [
        {
          "output_type": "stream",
          "name": "stdout",
          "text": [
            "          category  average_profit_margin\n",
            "0        Furniture                    8.0\n",
            "1  Office Supplies                    4.0\n",
            "2       Technology                    8.0\n"
          ]
        }
      ]
    },
    {
      "cell_type": "code",
      "source": [
        "#Calculate the percentage contribution of each region to total sales\n",
        "query = \"SELECT region,SUM(sale_price * quantity) / (SELECT SUM(sale_price * quantity) FROM orders) * 100 AS sales_percentage FROM orders GROUP BY region ORDER BY sales_percentage DESC;\"\n",
        "df1 = pd.read_sql(query, con=engine)\n",
        "print(df1)"
      ],
      "metadata": {
        "colab": {
          "base_uri": "https://localhost:8080/"
        },
        "id": "3JoCHL8QpoUL",
        "outputId": "4b370ff5-e0ea-4ff8-9242-54c282c2ac11"
      },
      "execution_count": 77,
      "outputs": [
        {
          "output_type": "stream",
          "name": "stdout",
          "text": [
            "    region  sales_percentage\n",
            "0     West         31.296208\n",
            "1     East         29.405969\n",
            "2  Central         21.552581\n",
            "3    South         17.745242\n"
          ]
        }
      ]
    },
    {
      "cell_type": "code",
      "source": [
        "# Find the sub-category with the highest number of orders\n",
        "query = \"SELECT p.sub_category, SUM(o.quantity) AS total_quantity FROM orders o INNER JOIN products p ON o.product_id = p.product_id GROUP BY p.sub_category ORDER BY total_quantity DESC LIMIT 1;\"\n",
        "df1 = pd.read_sql(query, con=engine)\n",
        "print(df1)"
      ],
      "metadata": {
        "colab": {
          "base_uri": "https://localhost:8080/"
        },
        "id": "_tZ56z2Trbwg",
        "outputId": "db2eee62-b081-4dfa-a141-ea4578feca24"
      },
      "execution_count": 78,
      "outputs": [
        {
          "output_type": "stream",
          "name": "stdout",
          "text": [
            "  sub_category  total_quantity\n",
            "0      Binders         41843.0\n"
          ]
        }
      ]
    },
    {
      "cell_type": "code",
      "source": [
        "# Determine the top 3 states with the highest discounts given\n",
        "query = \"SELECT state, ROUND(SUM(discount)) AS total_discount FROM orders GROUP BY state ORDER BY total_discount DESC LIMIT 3;\"\n",
        "df1 = pd.read_sql(query, con=engine)\n",
        "print(df1)"
      ],
      "metadata": {
        "colab": {
          "base_uri": "https://localhost:8080/"
        },
        "id": "ARV6iTQar9DU",
        "outputId": "c11ae209-be45-4019-9c4a-1309c1cf2563"
      },
      "execution_count": 79,
      "outputs": [
        {
          "output_type": "stream",
          "name": "stdout",
          "text": [
            "        state  total_discount\n",
            "0  California         15813.0\n",
            "1    New York         11072.0\n",
            "2       Texas          5983.0\n"
          ]
        }
      ]
    },
    {
      "cell_type": "code",
      "source": [
        "#Find the Top 3 Profitable Products by product_id and Category\n",
        "query = \"SELECT p.product_id, p.category,p.sub_category, ROUND(SUM(o.profit)) AS total_profit FROM orders o JOIN products p ON o.product_id = p.product_id GROUP BY p.product_id, p.category,p.sub_category ORDER BY total_profit DESC LIMIT 3;\"\n",
        "df1 = pd.read_sql(query, con=engine)\n",
        "print(df1)"
      ],
      "metadata": {
        "colab": {
          "base_uri": "https://localhost:8080/"
        },
        "id": "8tF0qi1Asjhi",
        "outputId": "c846a600-8b4c-4656-9bdb-bd2be3314f3a"
      },
      "execution_count": 80,
      "outputs": [
        {
          "output_type": "stream",
          "name": "stdout",
          "text": [
            "        product_id         category sub_category  total_profit\n",
            "0  OFF-BI-10000545  Office Supplies      Binders      160809.0\n",
            "1  OFF-BI-10003527  Office Supplies      Binders      127929.0\n",
            "2  TEC-CO-10001449       Technology      Copiers      127584.0\n"
          ]
        }
      ]
    },
    {
      "cell_type": "code",
      "source": [
        "# Calculate the total number of orders per shipping mode\n",
        "query = \"SELECT ship_mode, COUNT(order_id) AS total_orders FROM orders GROUP BY ship_mode ORDER BY total_orders DESC;\"\n",
        "df1 = pd.read_sql(query, con=engine)\n",
        "print(df1)"
      ],
      "metadata": {
        "colab": {
          "base_uri": "https://localhost:8080/"
        },
        "id": "HsmVT2K6tMCR",
        "outputId": "a45c0867-673d-49a4-91b4-8e2567d6190f"
      },
      "execution_count": 81,
      "outputs": [
        {
          "output_type": "stream",
          "name": "stdout",
          "text": [
            "        ship_mode  total_orders\n",
            "0  Standard Class          5962\n",
            "1    Second Class          1945\n",
            "2     First Class          1538\n",
            "3        Same Day           543\n",
            "4   Not Available             4\n",
            "5         unknown             2\n"
          ]
        }
      ]
    },
    {
      "cell_type": "code",
      "source": [
        "# Find the customer segment with the highest average sale\n",
        "query = \"SELECT segment, ROUND(AVG(sale_price)) AS average_sale_price FROM orders GROUP BY segment ORDER BY average_sale_price DESC LIMIT 1;\"\n",
        "df1 = pd.read_sql(query, con=engine)\n",
        "print(df1)"
      ],
      "metadata": {
        "colab": {
          "base_uri": "https://localhost:8080/"
        },
        "id": "AiuJSR7ouCpV",
        "outputId": "eb28117c-4ba9-403d-e4ea-9caf76c375e9"
      },
      "execution_count": 82,
      "outputs": [
        {
          "output_type": "stream",
          "name": "stdout",
          "text": [
            "       segment  average_sale_price\n",
            "0  Home Office               232.0\n"
          ]
        }
      ]
    },
    {
      "cell_type": "code",
      "source": [
        "# Calculate the total profit generated per year\n",
        "query = \"SELECT DATE_PART('year', CAST(order_date AS DATE)) AS year, ROUND(SUM(profit)) AS total_profit FROM orders GROUP BY DATE_PART('year', CAST(order_date AS DATE)) ORDER BY year;\"\n",
        "df1 = pd.read_sql(query, con=engine)\n",
        "print(df1)"
      ],
      "metadata": {
        "colab": {
          "base_uri": "https://localhost:8080/"
        },
        "id": "Kg-f3FHwucNI",
        "outputId": "8c77b9a8-6672-4c7d-d1e5-76110a9ec759"
      },
      "execution_count": 83,
      "outputs": [
        {
          "output_type": "stream",
          "name": "stdout",
          "text": [
            "     year  total_profit\n",
            "0  2022.0      517071.0\n",
            "1  2023.0      522857.0\n"
          ]
        }
      ]
    },
    {
      "cell_type": "code",
      "source": [
        "#  Identify the least profitable region\n",
        "query = \"SELECT region, ROUND(SUM(profit)) AS total_profit FROM orders GROUP BY region ORDER BY total_profit ASC LIMIT 1;\"\n",
        "df1 = pd.read_sql(query, con=engine)\n",
        "print(df1)"
      ],
      "metadata": {
        "colab": {
          "base_uri": "https://localhost:8080/"
        },
        "id": "3yplbgJQvDli",
        "outputId": "af30646f-5961-412d-c658-06dbb1cae50e"
      },
      "execution_count": 84,
      "outputs": [
        {
          "output_type": "stream",
          "name": "stdout",
          "text": [
            "  region  total_profit\n",
            "0  South      202744.0\n"
          ]
        }
      ]
    },
    {
      "cell_type": "code",
      "source": [],
      "metadata": {
        "id": "Mb9YX63AwZTQ"
      },
      "execution_count": null,
      "outputs": []
    }
  ]
}